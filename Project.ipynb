{
 "cells": [
  {
   "attachments": {},
   "cell_type": "markdown",
   "id": "32f8ca24",
   "metadata": {},
   "source": [
    "# Understanding Hired Rides in NYC\n",
    "\n",
    "_[Project prompt](https://docs.google.com/document/d/1uAUJGEUzfNj6OsWNAimnYCw7eKaHhMUfU1MTj9YwYw4/edit?usp=sharing), [grading rubric](https://docs.google.com/document/d/1hKuRWqFcIdhOkow3Nljcm7PXzIkoa9c_aHkMKZDxWa0/edit?usp=sharing)_\n",
    "\n",
    "_This scaffolding notebook may be used to help setup your final project. It's **totally optional** whether you make use of this or not._\n",
    "\n",
    "_If you do use this notebook, everything provided is optional as well - you may remove or add prose and code as you wish._\n",
    "\n",
    "_**All code below should be consider \"pseudo-code\" - not functional by itself, and only an outline to help you with your own approach.**_"
   ]
  },
  {
   "cell_type": "markdown",
   "id": "2f75fd94",
   "metadata": {},
   "source": [
    "## Project Setup"
   ]
  },
  {
   "cell_type": "code",
   "execution_count": 73,
   "id": "66dcde05",
   "metadata": {},
   "outputs": [],
   "source": [
    "import math\n",
    "import os\n",
    "import numpy as np\n",
    "import bs4\n",
    "import matplotlib.pyplot as plt\n",
    "import pandas as pd\n",
    "import geopandas as gpd\n",
    "import requests\n",
    "import sqlalchemy as db\n",
    "from sqlalchemy import create_engine\n",
    "import re\n",
    "import datetime\n",
    "import sqlite3\n",
    "import scipy.stats as st"
   ]
  },
  {
   "cell_type": "code",
   "execution_count": 2,
   "id": "3f1242c4",
   "metadata": {},
   "outputs": [],
   "source": [
    "# any constants you might need; some have been added for you, and \n",
    "# some you need to fill in\n",
    "\n",
    "TAXI_URL = \"https://www1.nyc.gov/site/tlc/about/tlc-trip-record-data.page\"\n",
    "\n",
    "TAXI_ZONES_DIR = \"data/taxi_zones\"\n",
    "TAXI_ZONES_SHAPEFILE = f\"{TAXI_ZONES_DIR}/taxi_zones.shp\"\n",
    "UBER_CSV = \"\"\n",
    "WEATHER_CSV_DIR = \"\"\n",
    "\n",
    "CRS = 4326  # coordinate reference system\n",
    "\n",
    "# (lat, lon)\n",
    "NEW_YORK_BOX_COORDS = ((40.560445, -74.242330), (40.908524, -73.717047))\n",
    "LGA_BOX_COORDS = ((40.763589, -73.891745), (40.778865, -73.854838))\n",
    "JFK_BOX_COORDS = ((40.639263, -73.795642), (40.651376, -73.766264))\n",
    "EWR_BOX_COORDS = ((40.686794, -74.194028), (40.699680, -74.165205))\n",
    "\n",
    "DATABASE_URL = \"sqlite:///project.db\"\n",
    "DATABASE_SCHEMA_FILE = \"schema.sql\"\n",
    "QUERY_DIRECTORY = \"queries\""
   ]
  },
  {
   "cell_type": "code",
   "execution_count": 3,
   "id": "d6601633",
   "metadata": {},
   "outputs": [],
   "source": [
    "# Make sure the QUERY_DIRECTORY exists\n",
    "try:\n",
    "    os.mkdir(QUERY_DIRECTORY)\n",
    "except Exception as e:\n",
    "    if e.errno == 17:\n",
    "        # the directory already exists\n",
    "        pass\n",
    "    else:\n",
    "        raise"
   ]
  },
  {
   "cell_type": "markdown",
   "id": "26ad10ea",
   "metadata": {},
   "source": [
    "## Part 1: Data Preprocessing"
   ]
  },
  {
   "cell_type": "markdown",
   "id": "32074561",
   "metadata": {},
   "source": [
    "### Calculate distance"
   ]
  },
  {
   "cell_type": "code",
   "execution_count": 4,
   "id": "4cbbe6cc",
   "metadata": {},
   "outputs": [],
   "source": [
    "def calculate_distance_with_coords(pickup_longitude, pickup_latitude, dropoff_longitude, dropoff_latitude):\n",
    "    \"\"\"\n",
    "    This function calculate the distance for taxi data and uber data\n",
    "    input: pickup longitude and latitude, dropoff longitude and latitude\n",
    "    output: distance between the pickup location and dropoff location\n",
    "    \"\"\"\n",
    "    \n",
    "    lat1=pickup_longitude\n",
    "    lon1=pickup_latitude\n",
    "    lat2=dropoff_longitude\n",
    "    lon2=dropoff_latitude\n",
    "    \n",
    "    R = 6371  # Earth's radius in kilometers\n",
    "\n",
    "    # convert decimal degrees to radians\n",
    "    lat1, lon1, lat2, lon2 = map(math.radians, [lat1, lon1, lat2, lon2])\n",
    "\n",
    "    # calculate differences between latitudes and longitudes\n",
    "    d_lat = lat2 - lat1\n",
    "    d_lon = lon2 - lon1\n",
    "\n",
    "    # calculate Haversine formula\n",
    "    a = math.sin(d_lat/2)**2 + math.cos(lat1) * math.cos(lat2) * math.sin(d_lon/2)**2\n",
    "    c = 2 * math.atan2(math.sqrt(a), math.sqrt(1-a))\n",
    "    distance = R * c\n",
    "\n",
    "    return distance"
   ]
  },
  {
   "attachments": {},
   "cell_type": "markdown",
   "id": "973199a4",
   "metadata": {},
   "source": [
    "Add Distance Column"
   ]
  },
  {
   "cell_type": "code",
   "execution_count": 5,
   "id": "96447e64",
   "metadata": {},
   "outputs": [],
   "source": [
    "def add_distance_column(dataframe):\n",
    "    \"\"\"\n",
    "    This function adds the distance column to the uber_data dataframe (use the function above)\n",
    "    input: uber_data dataframe\n",
    "    output: dataframe with distance column\n",
    "    \"\"\"\n",
    "    dataframe['distance'] = dataframe.apply(lambda row: calculate_distance_with_coords(row['pickup_latitude'], row['pickup_longitude'], row['dropoff_latitude'], row['dropoff_longitude']), axis=1)\n",
    "    return dataframe"
   ]
  },
  {
   "cell_type": "markdown",
   "id": "93daa717",
   "metadata": {},
   "source": [
    "### Process Taxi Data"
   ]
  },
  {
   "cell_type": "code",
   "execution_count": 6,
   "id": "1dd682b5",
   "metadata": {},
   "outputs": [],
   "source": [
    "# Get the website page of the taxi_url\n",
    "def get_taxi_html():\n",
    "    \"\"\"\n",
    "    This function gets the website page of the taxi_url\n",
    "    input: nothing\n",
    "    output: content in the taxi website\n",
    "    \n",
    "    \"\"\"\n",
    "    response = requests.get(TAXI_URL)\n",
    "    html = response.content\n",
    "    return html"
   ]
  },
  {
   "cell_type": "code",
   "execution_count": 7,
   "id": "cbd0d198",
   "metadata": {},
   "outputs": [],
   "source": [
    "# In the website page, find links for 'Yellow Taxi Trip Records'\n",
    "# From 2009 to 2015 monthly data\n",
    "def find_taxi_parquet_links():\n",
    "    \"\"\"\n",
    "    This function gets the links for 'Yellow Taxi Trip Records'\n",
    "    input: nothing\n",
    "    output: a list of links for the 'Yellow Taxi Trip Records',\n",
    "    from 2009 to 2015 monthly data\n",
    "    \n",
    "    \"\"\"\n",
    "    get_taxi_html()\n",
    "    soup = bs4.BeautifulSoup(get_taxi_html(), 'html.parser')\n",
    "    l1 = soup.find_all(\"a\")\n",
    "    l2 = []\n",
    "    l3 = []\n",
    "    pattern = []\n",
    "    for i in range(len(l1)):\n",
    "        if l1[i].text == 'Yellow Taxi Trip Records':\n",
    "            l2.append(l1[i]['href'])\n",
    "    for j in range(len(l2)):\n",
    "        pattern.append(r\"2009-\\d{2}\")\n",
    "        pattern.append(r\"2010-\\d{2}\")\n",
    "        pattern.append(r\"2011-\\d{2}\")\n",
    "        pattern.append(r\"2012-\\d{2}\")\n",
    "        pattern.append(r\"2013-\\d{2}\")\n",
    "        pattern.append(r\"2014-\\d{2}\")\n",
    "        pattern.append(r\"2015-\\d{2}\")\n",
    "        for i in range(7):\n",
    "            if re.search(pattern[i], l2[j]):\n",
    "                l3.append(l2[j])\n",
    "                break\n",
    "        \n",
    "    return l3"
   ]
  },
  {
   "cell_type": "code",
   "execution_count": 8,
   "id": "2f40130a",
   "metadata": {},
   "outputs": [
    {
     "name": "stderr",
     "output_type": "stream",
     "text": [
      "/var/folders/gb/ssgc3r9j5td0yd195ph5k9y40000gn/T/ipykernel_6176/2095852162.py:4: UserWarning: Geometry is in a geographic CRS. Results from 'centroid' are likely incorrect. Use 'GeoSeries.to_crs()' to re-project geometries to a projected CRS before this operation.\n",
      "\n",
      "  taxi_zones_df['longitude'] = taxi_zones_df.centroid.x\n",
      "/var/folders/gb/ssgc3r9j5td0yd195ph5k9y40000gn/T/ipykernel_6176/2095852162.py:5: UserWarning: Geometry is in a geographic CRS. Results from 'centroid' are likely incorrect. Use 'GeoSeries.to_crs()' to re-project geometries to a projected CRS before this operation.\n",
      "\n",
      "  taxi_zones_df['latitude'] = taxi_zones_df.centroid.y\n"
     ]
    }
   ],
   "source": [
    "# Get the taxi zones data, process the data to show the longitude and latitude for a given location ID\n",
    "taxi_zones_df = gpd.read_file(\"taxi_zones/taxi_zones.shp\")\n",
    "taxi_zones_df = taxi_zones_df.to_crs(CRS)\n",
    "taxi_zones_df['longitude'] = taxi_zones_df.centroid.x  \n",
    "taxi_zones_df['latitude'] = taxi_zones_df.centroid.y"
   ]
  },
  {
   "cell_type": "code",
   "execution_count": 9,
   "id": "35c9c0cd",
   "metadata": {},
   "outputs": [],
   "source": [
    "# Given the url of the 'Yellow Taxi Trip Records', download the data, \n",
    "# Generate a sampling of Yellow Taxi data that’s roughly equal to the sample size of the Uber dataset\n",
    "# Select useful columns and rename them\n",
    "# Calculate duration of trip (trip end time - trip start time)\n",
    "# If the dataset only have location ID, select rows with valid location ID\n",
    "# change the location ID into longitude and latitude\n",
    "# Remove the data that is not within the specified limits\n",
    "# Change the measurement of duration to seconds, delete rows that have super long duration (outlier)\n",
    "# Delete rows with negative duration\n",
    "# Delete rows that have super long distance (outlier)\n",
    "# Delete rows with negative distance\n",
    "# Return the cleaned dataframe\n",
    "\n",
    "def process_dataframe(url, taxi_zones_df):\n",
    "    \"\"\"\n",
    "    This function download the data from the taxi website and process the data to a dataframe\n",
    "    input: url of the 'Yellow Taxi Trip Records', taxi zones dataframe\n",
    "    output: a processed dataframe\n",
    "    \n",
    "    \"\"\"\n",
    "    df = pd.read_parquet(url, engine='pyarrow')\n",
    "    df = df.sample(frac =0.0002)\n",
    "    if \"tpep_pickup_datetime\" not in df.columns:\n",
    "        if \"Trip_Pickup_DateTime\" in df.columns:\n",
    "            df = df[[\"Trip_Pickup_DateTime\", \"Trip_Dropoff_DateTime\", \"Start_Lon\", \"Start_Lat\", \"End_Lon\", \"End_Lat\", \"Tip_Amt\"]]\n",
    "            df.rename(columns = {'Start_Lon':'pickup_longitude', 'Start_Lat':'pickup_latitude',\n",
    "                                  'End_Lon':'dropoff_longitude', 'End_Lat':'dropoff_latitude'}, inplace = True)\n",
    "\n",
    "        elif \"pickup_datetime\" in df.columns:\n",
    "            df = df[[\"pickup_datetime\", \"dropoff_datetime\", \"pickup_longitude\", \"pickup_latitude\", \"dropoff_longitude\", \"dropoff_latitude\", \"tip_amount\"]]\n",
    "            df.rename(columns = {'pickup_datetime':'Trip_Pickup_DateTime', 'dropoff_datetime':'Trip_Dropoff_DateTime',\n",
    "                                  'tip_amount':'Tip_Amt'}, inplace = True)  \n",
    "        \n",
    "        df['Trip_Pickup_DateTime'] = df['Trip_Pickup_DateTime'].apply(lambda x:datetime.datetime.strptime(x, '%Y-%m-%d %H:%M:%S'))\n",
    "        df['Trip_Dropoff_DateTime'] = df['Trip_Dropoff_DateTime'].apply(lambda x:datetime.datetime.strptime(x, '%Y-%m-%d %H:%M:%S'))\n",
    "        df['duration'] =  df['Trip_Dropoff_DateTime'] - df['Trip_Pickup_DateTime']\n",
    "        \n",
    "        \n",
    "        \n",
    "    else:\n",
    "        df = df[[\"tpep_pickup_datetime\", \"tpep_dropoff_datetime\", \"PULocationID\", \"DOLocationID\", \"tip_amount\"]]\n",
    "        df = df[(df[\"PULocationID\"] < 263) & (df[\"PULocationID\"] > 0) \n",
    "               & (df[\"DOLocationID\"] < 263) & (df[\"DOLocationID\"] > 0)]\n",
    "        df = df.merge(taxi_zones_df[['LocationID','longitude','latitude']].set_index('LocationID'),\n",
    "                                    left_on='PULocationID', right_on='LocationID')\n",
    "        df = df.rename(columns={'longitude': 'pickup_longitude', 'latitude': 'pickup_latitude'})\n",
    "        df = df.merge(taxi_zones_df[['LocationID','longitude','latitude']].set_index('LocationID'),\n",
    "                                    left_on='DOLocationID', right_on='LocationID')\n",
    "        df = df.rename(columns={'longitude': 'dropoff_longitude', 'latitude': 'dropoff_latitude'})\n",
    "        df = df.drop(columns=[\"PULocationID\", \"DOLocationID\"])\n",
    "        df = df.rename(columns={'tpep_pickup_datetime': 'Trip_Pickup_DateTime', 'tpep_dropoff_datetime': 'Trip_Dropoff_DateTime', 'tip_amount': 'Tip_Amt'})\n",
    "        df['duration'] =  df['Trip_Dropoff_DateTime'] - df['Trip_Pickup_DateTime']\n",
    "        \n",
    "\n",
    "    westlimit=-74.242330; southlimit=40.560445; eastlimit=-73.717047; northlimit=40.908524\n",
    "    df = df[(df['pickup_longitude']<eastlimit) & (df['pickup_longitude']>westlimit)\n",
    "        & (df['pickup_latitude']<northlimit) & (df['pickup_latitude']>southlimit)\n",
    "        & (df['dropoff_longitude']<eastlimit) & (df['dropoff_longitude']>westlimit)\n",
    "        & (df['dropoff_latitude']<northlimit) & (df['dropoff_latitude']>southlimit)]\n",
    "    df['duration'] = df['duration'].apply(lambda x:x/np.timedelta64(1, 's'))\n",
    "    df = df[(df['duration'] <= 10000) & (df['duration'] > 0)]\n",
    "    df['distance'] = df.apply(lambda row: calculate_distance_with_coords(row['pickup_latitude'], row['pickup_longitude'], row['dropoff_latitude'], row['dropoff_longitude']), axis=1)\n",
    "    df = df[(df['distance'] <= 100) & (df['distance'] > 0)]\n",
    "    \n",
    "    return df"
   ]
  },
  {
   "cell_type": "code",
   "execution_count": 10,
   "id": "200776ce",
   "metadata": {},
   "outputs": [],
   "source": [
    "# Getting the full dataset for taxi data\n",
    "# Get dataframes from every month by function process_dataframe(url, taxi_zones_df) (defined above)\n",
    "# concat them together by time order to make the full dataset\n",
    "\n",
    "def get_full_data():\n",
    "    \"\"\"\n",
    "    This function gets the full dataset for texi data (2009 to 2015)\n",
    "    input: nothing\n",
    "    output: a concat full dataset of all months taxi data\n",
    "    \n",
    "    \"\"\"\n",
    "    urls = find_taxi_parquet_links()\n",
    "    df = process_dataframe(urls[72], taxi_zones_df)\n",
    "    for i in range(73, 84):\n",
    "        df1 = process_dataframe(urls[i], taxi_zones_df)\n",
    "        df = pd.concat([df, df1])\n",
    "    for i in range(60, 72):\n",
    "        df1 = process_dataframe(urls[i], taxi_zones_df)\n",
    "        df = pd.concat([df, df1])       \n",
    "    for i in range(48, 60):\n",
    "        df1 = process_dataframe(urls[i], taxi_zones_df)\n",
    "        df = pd.concat([df, df1])\n",
    "    for i in range(36, 48):\n",
    "        df1 = process_dataframe(urls[i], taxi_zones_df)\n",
    "        df = pd.concat([df, df1])    \n",
    "    for i in range(24, 36):\n",
    "        df1 = process_dataframe(urls[i], taxi_zones_df)\n",
    "        df = pd.concat([df, df1])    \n",
    "    for i in range(12, 24):\n",
    "        df1 = process_dataframe(urls[i], taxi_zones_df)\n",
    "        df = pd.concat([df, df1])    \n",
    "    for i in range(0, 6):\n",
    "        df1 = process_dataframe(urls[i], taxi_zones_df)\n",
    "        df = pd.concat([df, df1])     \n",
    "    return df"
   ]
  },
  {
   "cell_type": "code",
   "execution_count": 11,
   "id": "876bd645",
   "metadata": {},
   "outputs": [],
   "source": [
    "taxi_data = get_full_data()"
   ]
  },
  {
   "cell_type": "code",
   "execution_count": 12,
   "id": "10ebd75e",
   "metadata": {},
   "outputs": [
    {
     "data": {
      "text/html": [
       "<div>\n",
       "<style scoped>\n",
       "    .dataframe tbody tr th:only-of-type {\n",
       "        vertical-align: middle;\n",
       "    }\n",
       "\n",
       "    .dataframe tbody tr th {\n",
       "        vertical-align: top;\n",
       "    }\n",
       "\n",
       "    .dataframe thead th {\n",
       "        text-align: right;\n",
       "    }\n",
       "</style>\n",
       "<table border=\"1\" class=\"dataframe\">\n",
       "  <thead>\n",
       "    <tr style=\"text-align: right;\">\n",
       "      <th></th>\n",
       "      <th>Trip_Pickup_DateTime</th>\n",
       "      <th>Trip_Dropoff_DateTime</th>\n",
       "      <th>pickup_longitude</th>\n",
       "      <th>pickup_latitude</th>\n",
       "      <th>dropoff_longitude</th>\n",
       "      <th>dropoff_latitude</th>\n",
       "      <th>Tip_Amt</th>\n",
       "      <th>duration</th>\n",
       "      <th>distance</th>\n",
       "    </tr>\n",
       "  </thead>\n",
       "  <tbody>\n",
       "    <tr>\n",
       "      <th>119485</th>\n",
       "      <td>2009-01-22 08:46:06</td>\n",
       "      <td>2009-01-22 09:01:57</td>\n",
       "      <td>-73.955878</td>\n",
       "      <td>40.779544</td>\n",
       "      <td>-73.983201</td>\n",
       "      <td>40.750635</td>\n",
       "      <td>0.0</td>\n",
       "      <td>951.0</td>\n",
       "      <td>3.953261</td>\n",
       "    </tr>\n",
       "    <tr>\n",
       "      <th>5959553</th>\n",
       "      <td>2009-01-25 22:54:24</td>\n",
       "      <td>2009-01-25 23:04:54</td>\n",
       "      <td>-73.966458</td>\n",
       "      <td>40.764619</td>\n",
       "      <td>-73.902177</td>\n",
       "      <td>40.751212</td>\n",
       "      <td>0.0</td>\n",
       "      <td>630.0</td>\n",
       "      <td>5.615712</td>\n",
       "    </tr>\n",
       "    <tr>\n",
       "      <th>9048854</th>\n",
       "      <td>2009-01-01 01:04:40</td>\n",
       "      <td>2009-01-01 01:15:55</td>\n",
       "      <td>-74.007959</td>\n",
       "      <td>40.712268</td>\n",
       "      <td>-74.004304</td>\n",
       "      <td>40.733643</td>\n",
       "      <td>0.0</td>\n",
       "      <td>675.0</td>\n",
       "      <td>2.396666</td>\n",
       "    </tr>\n",
       "    <tr>\n",
       "      <th>7930704</th>\n",
       "      <td>2009-01-20 22:32:51</td>\n",
       "      <td>2009-01-20 22:38:04</td>\n",
       "      <td>-73.969588</td>\n",
       "      <td>40.757882</td>\n",
       "      <td>-73.983916</td>\n",
       "      <td>40.762663</td>\n",
       "      <td>0.0</td>\n",
       "      <td>313.0</td>\n",
       "      <td>1.318677</td>\n",
       "    </tr>\n",
       "    <tr>\n",
       "      <th>11257914</th>\n",
       "      <td>2009-01-11 02:25:52</td>\n",
       "      <td>2009-01-11 02:38:10</td>\n",
       "      <td>-74.008106</td>\n",
       "      <td>40.740507</td>\n",
       "      <td>-73.983748</td>\n",
       "      <td>40.762275</td>\n",
       "      <td>0.0</td>\n",
       "      <td>738.0</td>\n",
       "      <td>3.173123</td>\n",
       "    </tr>\n",
       "  </tbody>\n",
       "</table>\n",
       "</div>"
      ],
      "text/plain": [
       "         Trip_Pickup_DateTime Trip_Dropoff_DateTime  pickup_longitude  \\\n",
       "119485    2009-01-22 08:46:06   2009-01-22 09:01:57        -73.955878   \n",
       "5959553   2009-01-25 22:54:24   2009-01-25 23:04:54        -73.966458   \n",
       "9048854   2009-01-01 01:04:40   2009-01-01 01:15:55        -74.007959   \n",
       "7930704   2009-01-20 22:32:51   2009-01-20 22:38:04        -73.969588   \n",
       "11257914  2009-01-11 02:25:52   2009-01-11 02:38:10        -74.008106   \n",
       "\n",
       "          pickup_latitude  dropoff_longitude  dropoff_latitude  Tip_Amt  \\\n",
       "119485          40.779544         -73.983201         40.750635      0.0   \n",
       "5959553         40.764619         -73.902177         40.751212      0.0   \n",
       "9048854         40.712268         -74.004304         40.733643      0.0   \n",
       "7930704         40.757882         -73.983916         40.762663      0.0   \n",
       "11257914        40.740507         -73.983748         40.762275      0.0   \n",
       "\n",
       "          duration  distance  \n",
       "119485       951.0  3.953261  \n",
       "5959553      630.0  5.615712  \n",
       "9048854      675.0  2.396666  \n",
       "7930704      313.0  1.318677  \n",
       "11257914     738.0  3.173123  "
      ]
     },
     "execution_count": 12,
     "metadata": {},
     "output_type": "execute_result"
    }
   ],
   "source": [
    "taxi_data.head()"
   ]
  },
  {
   "cell_type": "markdown",
   "id": "094b4d6d",
   "metadata": {},
   "source": [
    "### Processing Uber Data"
   ]
  },
  {
   "cell_type": "code",
   "execution_count": 13,
   "id": "7c58e3a2",
   "metadata": {},
   "outputs": [],
   "source": [
    "def load_and_clean_uber_data(csv_file):\n",
    "    \"\"\"\n",
    "    This function get to load and clean uber data, \n",
    "    this function drop the useless column, and remove trips outside of the zone\n",
    "    input: the uber data csv file\n",
    "    output: the cleaned uber data\n",
    "    \n",
    "    \"\"\"\n",
    "    data_1 = pd.read_csv(csv_file)\n",
    "    data_2 = data_1.drop(columns=['Unnamed: 0','key','fare_amount','passenger_count'])\n",
    "    data_3 = data_2.dropna()\n",
    "    \n",
    "    # Define the range of acceptable latitude and longitude values\n",
    "    min_lat, max_lat = 40.560445, 40.908524\n",
    "    min_long, max_long = -74.242330, -73.717047\n",
    "    \n",
    "    # Remove trips that start and/or end outside of the latitude/longitude coordinate box\n",
    "    data_4 = data_3.drop(\n",
    "    index=data_3[\n",
    "    (data_3['pickup_latitude'] < min_lat) & \n",
    "    (data_3['pickup_latitude'] > max_lat) &\n",
    "    (data_3['pickup_longitude'] < min_long) &\n",
    "    (data_3['pickup_longitude'] > max_long) &\n",
    "    (data_3['dropoff_latitude'] < min_lat) &\n",
    "    (data_3['dropoff_latitude'] > max_lat) &\n",
    "    (data_3['dropoff_longitude'] < min_long) &\n",
    "    (data_3['dropoff_longitude'] > max_long)\n",
    "    ].index\n",
    ")\n",
    "    \n",
    "    #normalizing and using appropriate column types for the respective data\n",
    "    data_4['pickup_datetime'] = pd.to_datetime(data_3['pickup_datetime'])\n",
    "    data_4 = data_4.rename(columns = {'pickup_datetime': 'Trip_Pickup_DateTime'})\n",
    "    \n",
    "    return data_4"
   ]
  },
  {
   "cell_type": "code",
   "execution_count": 14,
   "id": "f836f118",
   "metadata": {},
   "outputs": [],
   "source": [
    "def get_uber_data():\n",
    "    \"\"\"\n",
    "    This function add distance columns to the cleaned uber data set\n",
    "    input: nothing\n",
    "    output: new uber dataframe (with distance column)\n",
    "    \"\"\"\n",
    "    uber_dataframe = load_and_clean_uber_data(UBER_DATA)\n",
    "    add_distance_column(uber_dataframe)\n",
    "    return uber_dataframe"
   ]
  },
  {
   "cell_type": "code",
   "execution_count": 15,
   "id": "9483e725",
   "metadata": {},
   "outputs": [],
   "source": [
    "UBER_DATA = \"uber_rides_sample.csv\""
   ]
  },
  {
   "cell_type": "code",
   "execution_count": 16,
   "id": "9c2bd13f",
   "metadata": {},
   "outputs": [],
   "source": [
    "uber_data = get_uber_data()\n"
   ]
  },
  {
   "cell_type": "code",
   "execution_count": 17,
   "id": "641b5b0e",
   "metadata": {},
   "outputs": [],
   "source": [
    "uber_data=uber_data[uber_data['distance']<100]"
   ]
  },
  {
   "cell_type": "code",
   "execution_count": 18,
   "id": "339997e2",
   "metadata": {},
   "outputs": [
    {
     "data": {
      "text/html": [
       "<div>\n",
       "<style scoped>\n",
       "    .dataframe tbody tr th:only-of-type {\n",
       "        vertical-align: middle;\n",
       "    }\n",
       "\n",
       "    .dataframe tbody tr th {\n",
       "        vertical-align: top;\n",
       "    }\n",
       "\n",
       "    .dataframe thead th {\n",
       "        text-align: right;\n",
       "    }\n",
       "</style>\n",
       "<table border=\"1\" class=\"dataframe\">\n",
       "  <thead>\n",
       "    <tr style=\"text-align: right;\">\n",
       "      <th></th>\n",
       "      <th>Trip_Pickup_DateTime</th>\n",
       "      <th>pickup_longitude</th>\n",
       "      <th>pickup_latitude</th>\n",
       "      <th>dropoff_longitude</th>\n",
       "      <th>dropoff_latitude</th>\n",
       "      <th>distance</th>\n",
       "    </tr>\n",
       "  </thead>\n",
       "  <tbody>\n",
       "    <tr>\n",
       "      <th>0</th>\n",
       "      <td>2015-05-07 19:52:06+00:00</td>\n",
       "      <td>-73.999817</td>\n",
       "      <td>40.738354</td>\n",
       "      <td>-73.999512</td>\n",
       "      <td>40.723217</td>\n",
       "      <td>1.683323</td>\n",
       "    </tr>\n",
       "    <tr>\n",
       "      <th>1</th>\n",
       "      <td>2009-07-17 20:04:56+00:00</td>\n",
       "      <td>-73.994355</td>\n",
       "      <td>40.728225</td>\n",
       "      <td>-73.994710</td>\n",
       "      <td>40.750325</td>\n",
       "      <td>2.457590</td>\n",
       "    </tr>\n",
       "    <tr>\n",
       "      <th>2</th>\n",
       "      <td>2009-08-24 21:45:00+00:00</td>\n",
       "      <td>-74.005043</td>\n",
       "      <td>40.740770</td>\n",
       "      <td>-73.962565</td>\n",
       "      <td>40.772647</td>\n",
       "      <td>5.036377</td>\n",
       "    </tr>\n",
       "    <tr>\n",
       "      <th>3</th>\n",
       "      <td>2009-06-26 08:22:21+00:00</td>\n",
       "      <td>-73.976124</td>\n",
       "      <td>40.790844</td>\n",
       "      <td>-73.965316</td>\n",
       "      <td>40.803349</td>\n",
       "      <td>1.661683</td>\n",
       "    </tr>\n",
       "    <tr>\n",
       "      <th>4</th>\n",
       "      <td>2014-08-28 17:47:00+00:00</td>\n",
       "      <td>-73.925023</td>\n",
       "      <td>40.744085</td>\n",
       "      <td>-73.973082</td>\n",
       "      <td>40.761247</td>\n",
       "      <td>4.475450</td>\n",
       "    </tr>\n",
       "  </tbody>\n",
       "</table>\n",
       "</div>"
      ],
      "text/plain": [
       "       Trip_Pickup_DateTime  pickup_longitude  pickup_latitude  \\\n",
       "0 2015-05-07 19:52:06+00:00        -73.999817        40.738354   \n",
       "1 2009-07-17 20:04:56+00:00        -73.994355        40.728225   \n",
       "2 2009-08-24 21:45:00+00:00        -74.005043        40.740770   \n",
       "3 2009-06-26 08:22:21+00:00        -73.976124        40.790844   \n",
       "4 2014-08-28 17:47:00+00:00        -73.925023        40.744085   \n",
       "\n",
       "   dropoff_longitude  dropoff_latitude  distance  \n",
       "0         -73.999512         40.723217  1.683323  \n",
       "1         -73.994710         40.750325  2.457590  \n",
       "2         -73.962565         40.772647  5.036377  \n",
       "3         -73.965316         40.803349  1.661683  \n",
       "4         -73.973082         40.761247  4.475450  "
      ]
     },
     "execution_count": 18,
     "metadata": {},
     "output_type": "execute_result"
    }
   ],
   "source": [
    "uber_data.head()"
   ]
  },
  {
   "cell_type": "markdown",
   "id": "45a15cbb",
   "metadata": {},
   "source": [
    "### Processing Weather Data"
   ]
  },
  {
   "cell_type": "code",
   "execution_count": 19,
   "id": "76e864ab",
   "metadata": {},
   "outputs": [],
   "source": [
    "def clean_month_weather_data_hourly(csv_file):\n",
    "    \"\"\"\n",
    "    This function is to get clean hourly weather data, select only the requred columns,\n",
    "    convert required columns to numeric datatype, and fill nan values with 0\n",
    "    input: the raw weather data (all of the data are csv files)\n",
    "    output: cleaned hourly weather data\n",
    "    \n",
    "    \"\"\"\n",
    "    weather_data=pd.read_csv(csv_file)\n",
    "    weather_data['REPORT_TYPE'] = weather_data['REPORT_TYPE'].astype(str)\n",
    "    weather_data['DATE'] = pd.to_datetime(weather_data['DATE'])\n",
    "    \n",
    "    # Filter out the rows where 'REPORT_TYPE' column contains the string 'SOD'\n",
    "    hourly_data = weather_data.loc[~weather_data['REPORT_TYPE'].str.contains('SOD')]\n",
    "\n",
    "    # Select only the required columns and rename them\n",
    "    hourly_data = hourly_data[['DATE', 'HourlyPrecipitation', 'HourlyWindSpeed']]\n",
    "    hourly_data = hourly_data.rename(columns={'DATE': 'datetime', 'HourlyPrecipitation': 'hourly_precipitation', 'HourlyWindSpeed': 'hourly_wind_speed'})\n",
    "\n",
    "    # Convert 'HourlyPrecipitation' and 'HourlyWindSpeed' columns to numeric datatype\n",
    "    hourly_data[['hourly_precipitation', 'hourly_wind_speed']] = hourly_data[['hourly_precipitation', 'hourly_wind_speed']].apply(pd.to_numeric, errors='coerce')\n",
    "\n",
    "    # Fill NaN values in 'HourlyPrecipitation' and 'HourlyWindSpeed' columns with 0\n",
    "    hourly_data[['hourly_precipitation', 'hourly_wind_speed']] = hourly_data[['hourly_precipitation', 'hourly_wind_speed']].fillna(0)\n",
    "    \n",
    "    return hourly_data"
   ]
  },
  {
   "cell_type": "code",
   "execution_count": 20,
   "id": "0687581f",
   "metadata": {},
   "outputs": [],
   "source": [
    "def clean_month_weather_data_daily(csv_file):  \n",
    "    \"\"\"\n",
    "    This function is to get clean daily weather data, select only the requred columns,\n",
    "    convert required columns to numeric datatype, and fill nan values with 0\n",
    "    input: the raw weather data (all of the data are csv files)\n",
    "    output: cleaned daily weather data\n",
    "    \n",
    "    \"\"\"\n",
    "    weather_data = pd.read_csv(csv_file)\n",
    "    weather_data['DATE'] = pd.to_datetime(weather_data['DATE']).dt.date\n",
    "    \n",
    "     # Filter out the rows where 'REPORT_TYPE' column contains the string 'SOD'\n",
    "    hourly_data = weather_data.loc[~weather_data['REPORT_TYPE'].str.contains('SOD')]\n",
    "\n",
    "    # Select only the required columns\n",
    "    hourly_data = hourly_data[['DATE', 'HourlyPrecipitation', 'HourlyWindSpeed']]\n",
    "    \n",
    "    # Convert the 'HourlyPrecipitation' and 'HourlyWindSpeed' columns to numeric format\n",
    "    hourly_data['HourlyPrecipitation'] = pd.to_numeric(hourly_data['HourlyPrecipitation'], errors='coerce').fillna(0)\n",
    "    hourly_data['HourlyWindSpeed'] = pd.to_numeric(hourly_data['HourlyWindSpeed'], errors='coerce').fillna(0)\n",
    "    \n",
    "    # Fill NaN values in 'HourlyPrecipitation' and 'HourlyWindSpeed' columns with 0\n",
    "    hourly_data['HourlyPrecipitation']=hourly_data['HourlyPrecipitation'].fillna(0)\n",
    "    hourly_data['HourlyWindSpeed']=hourly_data['HourlyWindSpeed'].fillna(0)\n",
    "    \n",
    "    # Aggregate the hourly data by date\n",
    "    hourly_data = hourly_data.groupby('DATE', as_index=False).agg({'HourlyWindSpeed': 'mean', \n",
    "                                                                   'HourlyPrecipitation': 'sum'})\n",
    "    \n",
    "    # Filter the daily data and select the 'DATE', 'Sunrise', and 'Sunset' columns\n",
    "    daily_data = weather_data[weather_data['REPORT_TYPE'] == 'SOD  ']\n",
    "    daily_data=daily_data[['DATE', 'Sunrise', 'Sunset']]\n",
    "    \n",
    "    # Convert the 'Sunrise' and 'Sunset' columns to numeric format\n",
    "    daily_data['Sunrise'] = pd.to_numeric(daily_data['Sunrise'], errors='coerce')\n",
    "    daily_data['Sunset'] = pd.to_numeric(daily_data['Sunset'], errors='coerce')\n",
    "    \n",
    "    # Merge the hourly and daily data on the 'DATE' column\n",
    "    daily_data = hourly_data.merge(daily_data, on='DATE', how='left')\n",
    "    \n",
    "    # Fill the data\n",
    "    daily_data.fillna(method='ffill',inplace=True)\n",
    "    daily_data.fillna(method='bfill',inplace=True)\n",
    "    \n",
    "    # Rename the columns.\n",
    "    daily_data = daily_data.rename(columns={'DATE': 'date', \n",
    "                                            'HourlyPrecipitation': 'daily_precipitation', \n",
    "                                            'HourlyWindSpeed': 'daily_wind_speed', \n",
    "                                            'Sunrise': 'sunrise', \n",
    "                                            'Sunset': 'sunset'})\n",
    "    \n",
    "    return daily_data"
   ]
  },
  {
   "cell_type": "code",
   "execution_count": 21,
   "id": "d8cbdc65",
   "metadata": {},
   "outputs": [
    {
     "name": "stderr",
     "output_type": "stream",
     "text": [
      "/var/folders/gb/ssgc3r9j5td0yd195ph5k9y40000gn/T/ipykernel_6176/1146402577.py:9: DtypeWarning: Columns (9,13) have mixed types. Specify dtype option on import or set low_memory=False.\n",
      "  weather_data=pd.read_csv(csv_file)\n"
     ]
    }
   ],
   "source": [
    "hourly2009=pd.DataFrame(clean_month_weather_data_hourly(\"weather data/2009_weather.csv\"))"
   ]
  },
  {
   "cell_type": "code",
   "execution_count": 22,
   "id": "52d91aab",
   "metadata": {},
   "outputs": [
    {
     "name": "stderr",
     "output_type": "stream",
     "text": [
      "/var/folders/gb/ssgc3r9j5td0yd195ph5k9y40000gn/T/ipykernel_6176/1146402577.py:9: DtypeWarning: Columns (8,9,10,17) have mixed types. Specify dtype option on import or set low_memory=False.\n",
      "  weather_data=pd.read_csv(csv_file)\n"
     ]
    }
   ],
   "source": [
    "hourly2010=pd.DataFrame(clean_month_weather_data_hourly(\"weather data/2010_weather.csv\"))"
   ]
  },
  {
   "cell_type": "code",
   "execution_count": 23,
   "id": "46775e54",
   "metadata": {},
   "outputs": [
    {
     "name": "stderr",
     "output_type": "stream",
     "text": [
      "/var/folders/gb/ssgc3r9j5td0yd195ph5k9y40000gn/T/ipykernel_6176/1146402577.py:9: DtypeWarning: Columns (10) have mixed types. Specify dtype option on import or set low_memory=False.\n",
      "  weather_data=pd.read_csv(csv_file)\n"
     ]
    }
   ],
   "source": [
    "hourly2011=pd.DataFrame(clean_month_weather_data_hourly(\"weather data/2011_weather.csv\"))"
   ]
  },
  {
   "cell_type": "code",
   "execution_count": 24,
   "id": "6573bdfe",
   "metadata": {},
   "outputs": [
    {
     "name": "stderr",
     "output_type": "stream",
     "text": [
      "/var/folders/gb/ssgc3r9j5td0yd195ph5k9y40000gn/T/ipykernel_6176/1146402577.py:9: DtypeWarning: Columns (7,8,9,10,17,18,42,65) have mixed types. Specify dtype option on import or set low_memory=False.\n",
      "  weather_data=pd.read_csv(csv_file)\n"
     ]
    }
   ],
   "source": [
    "hourly2012=pd.DataFrame(clean_month_weather_data_hourly(\"weather data/2012_weather.csv\"))"
   ]
  },
  {
   "cell_type": "code",
   "execution_count": 25,
   "id": "197ac08b",
   "metadata": {},
   "outputs": [
    {
     "name": "stderr",
     "output_type": "stream",
     "text": [
      "/var/folders/gb/ssgc3r9j5td0yd195ph5k9y40000gn/T/ipykernel_6176/1146402577.py:9: DtypeWarning: Columns (17,78) have mixed types. Specify dtype option on import or set low_memory=False.\n",
      "  weather_data=pd.read_csv(csv_file)\n"
     ]
    }
   ],
   "source": [
    "hourly2013=pd.DataFrame(clean_month_weather_data_hourly(\"weather data/2013_weather.csv\"))"
   ]
  },
  {
   "cell_type": "code",
   "execution_count": 26,
   "id": "6875abd6",
   "metadata": {},
   "outputs": [
    {
     "name": "stderr",
     "output_type": "stream",
     "text": [
      "/var/folders/gb/ssgc3r9j5td0yd195ph5k9y40000gn/T/ipykernel_6176/1146402577.py:9: DtypeWarning: Columns (8,9,17,18,78) have mixed types. Specify dtype option on import or set low_memory=False.\n",
      "  weather_data=pd.read_csv(csv_file)\n"
     ]
    }
   ],
   "source": [
    "hourly2014=pd.DataFrame(clean_month_weather_data_hourly(\"weather data/2014_weather.csv\"))"
   ]
  },
  {
   "cell_type": "code",
   "execution_count": 27,
   "id": "ab9c33af",
   "metadata": {},
   "outputs": [
    {
     "name": "stderr",
     "output_type": "stream",
     "text": [
      "/var/folders/gb/ssgc3r9j5td0yd195ph5k9y40000gn/T/ipykernel_6176/1146402577.py:9: DtypeWarning: Columns (10,41,78) have mixed types. Specify dtype option on import or set low_memory=False.\n",
      "  weather_data=pd.read_csv(csv_file)\n"
     ]
    }
   ],
   "source": [
    "hourly2015=pd.DataFrame(clean_month_weather_data_hourly(\"weather data/2015_weather.csv\"))"
   ]
  },
  {
   "cell_type": "code",
   "execution_count": 28,
   "id": "baf92e18",
   "metadata": {},
   "outputs": [
    {
     "data": {
      "text/html": [
       "<div>\n",
       "<style scoped>\n",
       "    .dataframe tbody tr th:only-of-type {\n",
       "        vertical-align: middle;\n",
       "    }\n",
       "\n",
       "    .dataframe tbody tr th {\n",
       "        vertical-align: top;\n",
       "    }\n",
       "\n",
       "    .dataframe thead th {\n",
       "        text-align: right;\n",
       "    }\n",
       "</style>\n",
       "<table border=\"1\" class=\"dataframe\">\n",
       "  <thead>\n",
       "    <tr style=\"text-align: right;\">\n",
       "      <th></th>\n",
       "      <th>datetime</th>\n",
       "      <th>hourly_precipitation</th>\n",
       "      <th>hourly_wind_speed</th>\n",
       "    </tr>\n",
       "  </thead>\n",
       "  <tbody>\n",
       "    <tr>\n",
       "      <th>0</th>\n",
       "      <td>2009-01-01 00:51:00</td>\n",
       "      <td>0.0</td>\n",
       "      <td>18.0</td>\n",
       "    </tr>\n",
       "    <tr>\n",
       "      <th>1</th>\n",
       "      <td>2009-01-01 01:51:00</td>\n",
       "      <td>0.0</td>\n",
       "      <td>18.0</td>\n",
       "    </tr>\n",
       "    <tr>\n",
       "      <th>2</th>\n",
       "      <td>2009-01-01 02:51:00</td>\n",
       "      <td>0.0</td>\n",
       "      <td>18.0</td>\n",
       "    </tr>\n",
       "    <tr>\n",
       "      <th>3</th>\n",
       "      <td>2009-01-01 03:51:00</td>\n",
       "      <td>0.0</td>\n",
       "      <td>8.0</td>\n",
       "    </tr>\n",
       "    <tr>\n",
       "      <th>4</th>\n",
       "      <td>2009-01-01 04:51:00</td>\n",
       "      <td>0.0</td>\n",
       "      <td>11.0</td>\n",
       "    </tr>\n",
       "    <tr>\n",
       "      <th>...</th>\n",
       "      <td>...</td>\n",
       "      <td>...</td>\n",
       "      <td>...</td>\n",
       "    </tr>\n",
       "    <tr>\n",
       "      <th>11381</th>\n",
       "      <td>2015-12-31 20:51:00</td>\n",
       "      <td>0.0</td>\n",
       "      <td>10.0</td>\n",
       "    </tr>\n",
       "    <tr>\n",
       "      <th>11382</th>\n",
       "      <td>2015-12-31 21:51:00</td>\n",
       "      <td>0.0</td>\n",
       "      <td>0.0</td>\n",
       "    </tr>\n",
       "    <tr>\n",
       "      <th>11383</th>\n",
       "      <td>2015-12-31 22:51:00</td>\n",
       "      <td>0.0</td>\n",
       "      <td>7.0</td>\n",
       "    </tr>\n",
       "    <tr>\n",
       "      <th>11384</th>\n",
       "      <td>2015-12-31 23:51:00</td>\n",
       "      <td>0.0</td>\n",
       "      <td>5.0</td>\n",
       "    </tr>\n",
       "    <tr>\n",
       "      <th>11386</th>\n",
       "      <td>2015-12-31 23:59:00</td>\n",
       "      <td>0.0</td>\n",
       "      <td>0.0</td>\n",
       "    </tr>\n",
       "  </tbody>\n",
       "</table>\n",
       "<p>76146 rows × 3 columns</p>\n",
       "</div>"
      ],
      "text/plain": [
       "                 datetime  hourly_precipitation  hourly_wind_speed\n",
       "0     2009-01-01 00:51:00                   0.0               18.0\n",
       "1     2009-01-01 01:51:00                   0.0               18.0\n",
       "2     2009-01-01 02:51:00                   0.0               18.0\n",
       "3     2009-01-01 03:51:00                   0.0                8.0\n",
       "4     2009-01-01 04:51:00                   0.0               11.0\n",
       "...                   ...                   ...                ...\n",
       "11381 2015-12-31 20:51:00                   0.0               10.0\n",
       "11382 2015-12-31 21:51:00                   0.0                0.0\n",
       "11383 2015-12-31 22:51:00                   0.0                7.0\n",
       "11384 2015-12-31 23:51:00                   0.0                5.0\n",
       "11386 2015-12-31 23:59:00                   0.0                0.0\n",
       "\n",
       "[76146 rows x 3 columns]"
      ]
     },
     "execution_count": 28,
     "metadata": {},
     "output_type": "execute_result"
    }
   ],
   "source": [
    "hourly_data=pd.concat([hourly2009,hourly2010,hourly2011,hourly2012,hourly2013,hourly2014,hourly2015])\n",
    "hourly_data"
   ]
  },
  {
   "cell_type": "code",
   "execution_count": 29,
   "id": "e88dd00a",
   "metadata": {},
   "outputs": [
    {
     "name": "stderr",
     "output_type": "stream",
     "text": [
      "/var/folders/gb/ssgc3r9j5td0yd195ph5k9y40000gn/T/ipykernel_6176/1680018353.py:9: DtypeWarning: Columns (9,13) have mixed types. Specify dtype option on import or set low_memory=False.\n",
      "  weather_data = pd.read_csv(csv_file)\n"
     ]
    }
   ],
   "source": [
    "daily2009=pd.DataFrame(clean_month_weather_data_daily(\"weather data/2009_weather.csv\"))"
   ]
  },
  {
   "cell_type": "code",
   "execution_count": 30,
   "id": "0646682c",
   "metadata": {},
   "outputs": [
    {
     "name": "stderr",
     "output_type": "stream",
     "text": [
      "/var/folders/gb/ssgc3r9j5td0yd195ph5k9y40000gn/T/ipykernel_6176/1680018353.py:9: DtypeWarning: Columns (8,9,10,17) have mixed types. Specify dtype option on import or set low_memory=False.\n",
      "  weather_data = pd.read_csv(csv_file)\n"
     ]
    }
   ],
   "source": [
    "daily2010=pd.DataFrame(clean_month_weather_data_daily(\"weather data/2010_weather.csv\"))"
   ]
  },
  {
   "cell_type": "code",
   "execution_count": 31,
   "id": "cba2e278",
   "metadata": {},
   "outputs": [
    {
     "name": "stderr",
     "output_type": "stream",
     "text": [
      "/var/folders/gb/ssgc3r9j5td0yd195ph5k9y40000gn/T/ipykernel_6176/1680018353.py:9: DtypeWarning: Columns (10) have mixed types. Specify dtype option on import or set low_memory=False.\n",
      "  weather_data = pd.read_csv(csv_file)\n"
     ]
    }
   ],
   "source": [
    "daily2011=pd.DataFrame(clean_month_weather_data_daily(\"weather data/2011_weather.csv\"))"
   ]
  },
  {
   "cell_type": "code",
   "execution_count": 32,
   "id": "d2232751",
   "metadata": {},
   "outputs": [
    {
     "name": "stderr",
     "output_type": "stream",
     "text": [
      "/var/folders/gb/ssgc3r9j5td0yd195ph5k9y40000gn/T/ipykernel_6176/1680018353.py:9: DtypeWarning: Columns (7,8,9,10,17,18,42,65) have mixed types. Specify dtype option on import or set low_memory=False.\n",
      "  weather_data = pd.read_csv(csv_file)\n"
     ]
    }
   ],
   "source": [
    "daily2012=pd.DataFrame(clean_month_weather_data_daily(\"weather data/2012_weather.csv\"))"
   ]
  },
  {
   "cell_type": "code",
   "execution_count": 33,
   "id": "37633796",
   "metadata": {},
   "outputs": [
    {
     "name": "stderr",
     "output_type": "stream",
     "text": [
      "/var/folders/gb/ssgc3r9j5td0yd195ph5k9y40000gn/T/ipykernel_6176/1680018353.py:9: DtypeWarning: Columns (17,78) have mixed types. Specify dtype option on import or set low_memory=False.\n",
      "  weather_data = pd.read_csv(csv_file)\n"
     ]
    }
   ],
   "source": [
    "daily2013=pd.DataFrame(clean_month_weather_data_daily(\"weather data/2013_weather.csv\"))"
   ]
  },
  {
   "cell_type": "code",
   "execution_count": 34,
   "id": "7f2d480b",
   "metadata": {},
   "outputs": [
    {
     "name": "stderr",
     "output_type": "stream",
     "text": [
      "/var/folders/gb/ssgc3r9j5td0yd195ph5k9y40000gn/T/ipykernel_6176/1680018353.py:9: DtypeWarning: Columns (8,9,17,18,78) have mixed types. Specify dtype option on import or set low_memory=False.\n",
      "  weather_data = pd.read_csv(csv_file)\n"
     ]
    }
   ],
   "source": [
    "daily2014=pd.DataFrame(clean_month_weather_data_daily(\"weather data/2014_weather.csv\"))"
   ]
  },
  {
   "cell_type": "code",
   "execution_count": 35,
   "id": "ae05eb01",
   "metadata": {},
   "outputs": [
    {
     "name": "stderr",
     "output_type": "stream",
     "text": [
      "/var/folders/gb/ssgc3r9j5td0yd195ph5k9y40000gn/T/ipykernel_6176/1680018353.py:9: DtypeWarning: Columns (10,41,78) have mixed types. Specify dtype option on import or set low_memory=False.\n",
      "  weather_data = pd.read_csv(csv_file)\n"
     ]
    }
   ],
   "source": [
    "daily2015=pd.DataFrame(clean_month_weather_data_daily(\"weather data/2015_weather.csv\"))"
   ]
  },
  {
   "cell_type": "code",
   "execution_count": 36,
   "id": "2eabce78",
   "metadata": {},
   "outputs": [
    {
     "data": {
      "text/html": [
       "<div>\n",
       "<style scoped>\n",
       "    .dataframe tbody tr th:only-of-type {\n",
       "        vertical-align: middle;\n",
       "    }\n",
       "\n",
       "    .dataframe tbody tr th {\n",
       "        vertical-align: top;\n",
       "    }\n",
       "\n",
       "    .dataframe thead th {\n",
       "        text-align: right;\n",
       "    }\n",
       "</style>\n",
       "<table border=\"1\" class=\"dataframe\">\n",
       "  <thead>\n",
       "    <tr style=\"text-align: right;\">\n",
       "      <th></th>\n",
       "      <th>date</th>\n",
       "      <th>daily_wind_speed</th>\n",
       "      <th>daily_precipitation</th>\n",
       "      <th>sunrise</th>\n",
       "      <th>sunset</th>\n",
       "    </tr>\n",
       "  </thead>\n",
       "  <tbody>\n",
       "    <tr>\n",
       "      <th>0</th>\n",
       "      <td>2009-01-01</td>\n",
       "      <td>11.041667</td>\n",
       "      <td>0.00</td>\n",
       "      <td>720.0</td>\n",
       "      <td>1640.0</td>\n",
       "    </tr>\n",
       "    <tr>\n",
       "      <th>1</th>\n",
       "      <td>2009-01-02</td>\n",
       "      <td>6.806452</td>\n",
       "      <td>0.00</td>\n",
       "      <td>720.0</td>\n",
       "      <td>1640.0</td>\n",
       "    </tr>\n",
       "    <tr>\n",
       "      <th>2</th>\n",
       "      <td>2009-01-03</td>\n",
       "      <td>9.875000</td>\n",
       "      <td>0.00</td>\n",
       "      <td>720.0</td>\n",
       "      <td>1640.0</td>\n",
       "    </tr>\n",
       "    <tr>\n",
       "      <th>3</th>\n",
       "      <td>2009-01-04</td>\n",
       "      <td>7.370370</td>\n",
       "      <td>0.00</td>\n",
       "      <td>720.0</td>\n",
       "      <td>1640.0</td>\n",
       "    </tr>\n",
       "    <tr>\n",
       "      <th>4</th>\n",
       "      <td>2009-01-05</td>\n",
       "      <td>6.925926</td>\n",
       "      <td>0.00</td>\n",
       "      <td>720.0</td>\n",
       "      <td>1640.0</td>\n",
       "    </tr>\n",
       "    <tr>\n",
       "      <th>...</th>\n",
       "      <td>...</td>\n",
       "      <td>...</td>\n",
       "      <td>...</td>\n",
       "      <td>...</td>\n",
       "      <td>...</td>\n",
       "    </tr>\n",
       "    <tr>\n",
       "      <th>360</th>\n",
       "      <td>2015-12-27</td>\n",
       "      <td>4.702128</td>\n",
       "      <td>0.17</td>\n",
       "      <td>719.0</td>\n",
       "      <td>1635.0</td>\n",
       "    </tr>\n",
       "    <tr>\n",
       "      <th>361</th>\n",
       "      <td>2015-12-28</td>\n",
       "      <td>7.880000</td>\n",
       "      <td>0.03</td>\n",
       "      <td>719.0</td>\n",
       "      <td>1636.0</td>\n",
       "    </tr>\n",
       "    <tr>\n",
       "      <th>362</th>\n",
       "      <td>2015-12-29</td>\n",
       "      <td>7.787234</td>\n",
       "      <td>0.93</td>\n",
       "      <td>720.0</td>\n",
       "      <td>1636.0</td>\n",
       "    </tr>\n",
       "    <tr>\n",
       "      <th>363</th>\n",
       "      <td>2015-12-30</td>\n",
       "      <td>4.184211</td>\n",
       "      <td>0.29</td>\n",
       "      <td>720.0</td>\n",
       "      <td>1637.0</td>\n",
       "    </tr>\n",
       "    <tr>\n",
       "      <th>364</th>\n",
       "      <td>2015-12-31</td>\n",
       "      <td>4.323529</td>\n",
       "      <td>0.08</td>\n",
       "      <td>720.0</td>\n",
       "      <td>1638.0</td>\n",
       "    </tr>\n",
       "  </tbody>\n",
       "</table>\n",
       "<p>2551 rows × 5 columns</p>\n",
       "</div>"
      ],
      "text/plain": [
       "           date  daily_wind_speed  daily_precipitation  sunrise  sunset\n",
       "0    2009-01-01         11.041667                 0.00    720.0  1640.0\n",
       "1    2009-01-02          6.806452                 0.00    720.0  1640.0\n",
       "2    2009-01-03          9.875000                 0.00    720.0  1640.0\n",
       "3    2009-01-04          7.370370                 0.00    720.0  1640.0\n",
       "4    2009-01-05          6.925926                 0.00    720.0  1640.0\n",
       "..          ...               ...                  ...      ...     ...\n",
       "360  2015-12-27          4.702128                 0.17    719.0  1635.0\n",
       "361  2015-12-28          7.880000                 0.03    719.0  1636.0\n",
       "362  2015-12-29          7.787234                 0.93    720.0  1636.0\n",
       "363  2015-12-30          4.184211                 0.29    720.0  1637.0\n",
       "364  2015-12-31          4.323529                 0.08    720.0  1638.0\n",
       "\n",
       "[2551 rows x 5 columns]"
      ]
     },
     "execution_count": 36,
     "metadata": {},
     "output_type": "execute_result"
    }
   ],
   "source": [
    "daily_data=pd.concat([daily2009,daily2010,daily2011,daily2012,daily2013,daily2014,daily2015])\n",
    "daily_data"
   ]
  },
  {
   "cell_type": "markdown",
   "id": "dd101f11",
   "metadata": {},
   "source": [
    "## Part 2: Storing Cleaned Data"
   ]
  },
  {
   "cell_type": "code",
   "execution_count": 37,
   "id": "f3529cf6",
   "metadata": {},
   "outputs": [],
   "source": [
    "engine = db.create_engine(DATABASE_URL)"
   ]
  },
  {
   "cell_type": "code",
   "execution_count": 38,
   "id": "d2bea0ff",
   "metadata": {},
   "outputs": [],
   "source": [
    "# if using SQL (as opposed to SQLAlchemy), define the commands \n",
    "# to create your 4 tables/dataframes\n",
    "HOURLY_WEATHER_SCHEMA = \"\"\"\n",
    "CREATE TABLE IF NOT EXISTS hourly_weather\n",
    "(\n",
    "    id INTEGER PRIMARY KEY,\n",
    "    datetime DATETIME,\n",
    "    hourly_precipitation FLOAT,\n",
    "    hourly_wind_speed FLOAT\n",
    ");\n",
    "\"\"\"\n",
    "\n",
    "DAILY_WEATHER_SCHEMA = \"\"\"\n",
    "CREATE TABLE IF NOT EXISTS daily_weather\n",
    "(\n",
    "    id INTEGER PRIMARY KEY,\n",
    "    date DATE,\n",
    "    daily_wind_speed FLOAT,\n",
    "    daily_precipitation FLOAT\n",
    "    sunrise FLOAT\n",
    "    sunset FLOAT\n",
    ");\n",
    "\"\"\"\n",
    "\n",
    "TAXI_TRIPS_SCHEMA = \"\"\"\n",
    "CREATE TABLE IF NOT EXISTS taxi\n",
    "(\n",
    "    id INTEGER PRIMARY KEY,\n",
    "    Trip_Pickup_DateTime DATETIME,\n",
    "    Trip_Dropoff_DateTime DATETIME,\n",
    "    Total_Amt FLOAT,\n",
    "    pickup_longitude FLOAT,\n",
    "    pickup_latitude FLOAT,\n",
    "    dropoff_longitude FLOAT,\n",
    "    dropoff_latitude FLOAT,\n",
    "    duration FLOAT\n",
    ")\n",
    "\"\"\"\n",
    "\n",
    "UBER_TRIPS_SCHEMA = \"\"\"\n",
    "CREATE TABLE IF NOT EXISTS uber_trips\n",
    "(\n",
    "    id INTEGER PRIMARY KEY,\n",
    "    Trip_Pickup_DateTime DATETIME,\n",
    "    pickup_longitude FLOAT,\n",
    "    pickup_latitude FLOAT,\n",
    "    dropoff_longitude FLOAT,\n",
    "    dropoff_latitude FLOAT,\n",
    "    distance FLOAT\n",
    ");\n",
    "\"\"\"\n",
    "\n",
    "SUN_DATA_SCHEMA = \"\"\"\n",
    "CREATE TABLE IF NOT EXISTS sun_data \n",
    "(\n",
    "    id INTEGER PRIMARY KEY,\n",
    "    date DATE,\n",
    "    sunrise INT32,\n",
    "    sunset INT32\n",
    ")\n",
    "\"\"\""
   ]
  },
  {
   "cell_type": "code",
   "execution_count": 39,
   "id": "5f41e54b",
   "metadata": {},
   "outputs": [],
   "source": [
    "# create that required schema.sql file\n",
    "with open(DATABASE_SCHEMA_FILE, \"w\") as f:\n",
    "    f.write(HOURLY_WEATHER_SCHEMA)\n",
    "    f.write(DAILY_WEATHER_SCHEMA)\n",
    "    f.write(TAXI_TRIPS_SCHEMA)\n",
    "    f.write(UBER_TRIPS_SCHEMA)\n",
    "    f.write(SUN_DATA_SCHEMA)"
   ]
  },
  {
   "cell_type": "code",
   "execution_count": 40,
   "id": "e88c0705",
   "metadata": {},
   "outputs": [],
   "source": [
    "with engine.connect() as connection:\n",
    "    connection.execute(TAXI_TRIPS_SCHEMA)"
   ]
  },
  {
   "cell_type": "code",
   "execution_count": 41,
   "id": "25acf126",
   "metadata": {},
   "outputs": [],
   "source": [
    "with engine.connect() as connection:\n",
    "    connection.execute(UBER_TRIPS_SCHEMA)"
   ]
  },
  {
   "cell_type": "code",
   "execution_count": 42,
   "id": "b4be7076",
   "metadata": {},
   "outputs": [],
   "source": [
    "with engine.connect() as connection:\n",
    "    connection.execute(HOURLY_WEATHER_SCHEMA)"
   ]
  },
  {
   "cell_type": "code",
   "execution_count": 43,
   "id": "086e94d8",
   "metadata": {},
   "outputs": [],
   "source": [
    "with engine.connect() as connection:\n",
    "    connection.execute(DAILY_WEATHER_SCHEMA)"
   ]
  },
  {
   "cell_type": "code",
   "execution_count": 44,
   "id": "7c75adaa",
   "metadata": {},
   "outputs": [],
   "source": [
    "with engine.connect() as connection:\n",
    "    connection.execute(SUN_DATA_SCHEMA)"
   ]
  },
  {
   "cell_type": "markdown",
   "id": "c122964f",
   "metadata": {},
   "source": [
    "### Add Data to Database"
   ]
  },
  {
   "cell_type": "code",
   "execution_count": 45,
   "id": "0e68a363",
   "metadata": {},
   "outputs": [],
   "source": [
    "def write_dataframes_to_table(table_to_df_dict):\n",
    "    \"\"\"\n",
    "    This function input data from dataframe to sql\n",
    "    input: dictionary with dataframes and corresponding tables\n",
    "    \"\"\"\n",
    "    for name, table in table_to_df_dict.items():\n",
    "        table.to_sql(name, engine, if_exists='replace', index=False)"
   ]
  },
  {
   "cell_type": "code",
   "execution_count": 46,
   "id": "45d6c06c",
   "metadata": {},
   "outputs": [],
   "source": [
    "map_table_name_to_dataframe = {\n",
    "    \"taxi_trips\": taxi_data,\n",
    "    \"uber_trips\": uber_data,\n",
    "    \"hourly_weather\": hourly_data,\n",
    "    \"daily_weather\": daily_data,\n",
    "}"
   ]
  },
  {
   "cell_type": "code",
   "execution_count": 47,
   "id": "74004f96",
   "metadata": {},
   "outputs": [],
   "source": [
    "write_dataframes_to_table(map_table_name_to_dataframe)"
   ]
  },
  {
   "cell_type": "markdown",
   "id": "8cb6e33e",
   "metadata": {},
   "source": [
    "## Part 3: Understanding the Data"
   ]
  },
  {
   "cell_type": "code",
   "execution_count": 48,
   "id": "6a849e92",
   "metadata": {},
   "outputs": [],
   "source": [
    "# Helper function to write the queries to file\n",
    "def write_query_to_file(query, outfile):\n",
    "    \"\"\"\n",
    "    This function write queries to file\n",
    "    input: query\n",
    "    \"\"\"\n",
    "    with open(outfile, \"w\") as f:\n",
    "        f.write(query)"
   ]
  },
  {
   "cell_type": "markdown",
   "id": "ee70a777",
   "metadata": {},
   "source": [
    "### Query 1"
   ]
  },
  {
   "cell_type": "code",
   "execution_count": 49,
   "id": "db871d3c",
   "metadata": {},
   "outputs": [],
   "source": [
    "QUERY_1 = \"\"\"\n",
    "SELECT strftime('%H', Trip_Pickup_DateTime), count(*)\n",
    "FROM taxi_trips\n",
    "GROUP BY strftime('%H', Trip_Pickup_DateTime)\n",
    "ORDER BY count(*) DESC;\n",
    "\"\"\""
   ]
  },
  {
   "cell_type": "code",
   "execution_count": 50,
   "id": "c5275f3a",
   "metadata": {},
   "outputs": [
    {
     "data": {
      "text/plain": [
       "[('19', 12667),\n",
       " ('18', 12194),\n",
       " ('20', 11951),\n",
       " ('21', 11715),\n",
       " ('22', 11100),\n",
       " ('14', 10247),\n",
       " ('23', 10022),\n",
       " ('13', 9973),\n",
       " ('17', 9906),\n",
       " ('12', 9788),\n",
       " ('15', 9708),\n",
       " ('09', 9552),\n",
       " ('11', 9432),\n",
       " ('08', 9202),\n",
       " ('10', 8939),\n",
       " ('16', 8438),\n",
       " ('00', 7968),\n",
       " ('07', 7220),\n",
       " ('01', 5933),\n",
       " ('02', 4348),\n",
       " ('06', 4086),\n",
       " ('03', 3106),\n",
       " ('04', 2347),\n",
       " ('05', 1867)]"
      ]
     },
     "execution_count": 50,
     "metadata": {},
     "output_type": "execute_result"
    }
   ],
   "source": [
    "engine.execute(QUERY_1).fetchall()"
   ]
  },
  {
   "cell_type": "code",
   "execution_count": 51,
   "id": "a2ef04df",
   "metadata": {},
   "outputs": [],
   "source": [
    "write_query_to_file(QUERY_1, \"Popularity of taxi rides for each hour\")"
   ]
  },
  {
   "attachments": {},
   "cell_type": "markdown",
   "id": "458c67b2",
   "metadata": {},
   "source": [
    "### Query 2"
   ]
  },
  {
   "cell_type": "code",
   "execution_count": 52,
   "id": "f8130b18",
   "metadata": {},
   "outputs": [],
   "source": [
    "QUERY_2 = \"\"\"\n",
    "SELECT strftime('%w', Trip_Pickup_DateTime) AS day, COUNT(*) AS number\n",
    "FROM uber_trips\n",
    "GROUP BY day\n",
    "ORDER BY number DESC;\n",
    "\"\"\""
   ]
  },
  {
   "cell_type": "code",
   "execution_count": 53,
   "id": "bc469967",
   "metadata": {},
   "outputs": [
    {
     "data": {
      "text/plain": [
       "[('5', 30811),\n",
       " ('6', 30181),\n",
       " ('4', 29955),\n",
       " ('3', 28968),\n",
       " ('2', 28052),\n",
       " ('0', 26387),\n",
       " ('1', 25174)]"
      ]
     },
     "execution_count": 53,
     "metadata": {},
     "output_type": "execute_result"
    }
   ],
   "source": [
    "engine.execute(QUERY_2).fetchall()"
   ]
  },
  {
   "cell_type": "code",
   "execution_count": 54,
   "id": "2dd2f8a9",
   "metadata": {},
   "outputs": [],
   "source": [
    "write_query_to_file(QUERY_2, \"Popularity of uber rides for each day\")"
   ]
  },
  {
   "attachments": {},
   "cell_type": "markdown",
   "id": "34dbafaa",
   "metadata": {},
   "source": [
    "### Query 3"
   ]
  },
  {
   "cell_type": "code",
   "execution_count": 55,
   "id": "f41cd361",
   "metadata": {},
   "outputs": [],
   "source": [
    "QUERY_3 = \"\"\"\n",
    "    WITH hired_trips AS\n",
    "    (\n",
    "    SELECT \n",
    "        Trip_Pickup_DateTime, \n",
    "        distance\n",
    "    FROM\n",
    "        taxi_trips\n",
    "    WHERE \n",
    "        strftime('%m', Trip_Pickup_DateTime) = \"07\"\n",
    "    AND \n",
    "        strftime('%Y', Trip_Pickup_DateTime) = \"2013\"\n",
    "UNION\n",
    "    SELECT\n",
    "        Trip_Pickup_DateTime, \n",
    "        distance\n",
    "    FROM\n",
    "        uber_trips\n",
    "    WHERE \n",
    "        strftime('%m', Trip_Pickup_DateTime) = \"07\"\n",
    "    AND \n",
    "        strftime('%Y', Trip_Pickup_DateTime) = \"2013\"\n",
    "    )\n",
    "    SELECT distance FROM hired_trips ORDER BY distance\n",
    "    LIMIT 1 OFFSET ((select count(*) from hired_trips) * 95/100 -1)    \n",
    "\"\"\""
   ]
  },
  {
   "cell_type": "code",
   "execution_count": 56,
   "id": "b1995547",
   "metadata": {},
   "outputs": [
    {
     "data": {
      "text/plain": [
       "[(10.767315773680476,)]"
      ]
     },
     "execution_count": 56,
     "metadata": {},
     "output_type": "execute_result"
    }
   ],
   "source": [
    "engine.execute(QUERY_3).fetchall()"
   ]
  },
  {
   "cell_type": "code",
   "execution_count": 57,
   "id": "057afad3",
   "metadata": {},
   "outputs": [],
   "source": [
    "write_query_to_file(QUERY_3, \"95 percentile distance by hired trips in July 2013\")"
   ]
  },
  {
   "attachments": {},
   "cell_type": "markdown",
   "id": "d4bec624",
   "metadata": {},
   "source": [
    "### Query 4"
   ]
  },
  {
   "cell_type": "code",
   "execution_count": 58,
   "id": "4916e052",
   "metadata": {},
   "outputs": [],
   "source": [
    "QUERY_4 = \"\"\"\n",
    "    WITH hired_trips AS\n",
    "    (\n",
    "    SELECT \n",
    "        Trip_Pickup_DateTime, \n",
    "        distance\n",
    "    FROM\n",
    "        taxi_trips\n",
    "    WHERE \n",
    "        strftime('%Y', Trip_Pickup_DateTime) = \"2009\"\n",
    "UNION\n",
    "    SELECT\n",
    "        Trip_Pickup_DateTime, \n",
    "        distance\n",
    "    FROM\n",
    "        uber_trips\n",
    "    WHERE \n",
    "        strftime('%Y', Trip_Pickup_DateTime) = \"2009\"\n",
    "    )\n",
    "    SELECT \n",
    "        date(Trip_Pickup_DateTime), count(*), AVG(distance)\n",
    "    FROM hired_trips\n",
    "    GROUP BY date(Trip_Pickup_DateTime)\n",
    "    ORDER BY count(*) DESC\n",
    "    LIMIT 10\n",
    "\n",
    "\"\"\""
   ]
  },
  {
   "cell_type": "code",
   "execution_count": 59,
   "id": "020a0a31",
   "metadata": {},
   "outputs": [
    {
     "data": {
      "text/plain": [
       "[('2009-12-18', 238, 3.072211608077208),\n",
       " ('2009-12-11', 238, 3.1272034412191876),\n",
       " ('2009-05-08', 232, 3.007895594778911),\n",
       " ('2009-07-23', 229, 3.443061755971221),\n",
       " ('2009-12-05', 224, 2.815099389858003),\n",
       " ('2009-05-01', 224, 3.4287747969554956),\n",
       " ('2009-04-23', 223, 2.679346730172129),\n",
       " ('2009-11-07', 219, 3.3339253965296773),\n",
       " ('2009-06-19', 218, 3.0736231096835818),\n",
       " ('2009-04-18', 217, 3.3270601511439177)]"
      ]
     },
     "execution_count": 59,
     "metadata": {},
     "output_type": "execute_result"
    }
   ],
   "source": [
    "engine.execute(QUERY_4).fetchall()"
   ]
  },
  {
   "cell_type": "code",
   "execution_count": 60,
   "id": "fdaa09d4",
   "metadata": {},
   "outputs": [],
   "source": [
    "write_query_to_file(QUERY_4, \"Top 10 days with highest number of hired rides in 2009\")"
   ]
  },
  {
   "attachments": {},
   "cell_type": "markdown",
   "id": "cc3bb275",
   "metadata": {},
   "source": [
    "### Query 5"
   ]
  },
  {
   "cell_type": "code",
   "execution_count": 1,
   "id": "c016c891",
   "metadata": {},
   "outputs": [],
   "source": [
    "QUERY_5 = \"\"\"\n",
    "    WITH hired_trips AS\n",
    "    (\n",
    "    SELECT DATE(Trip_Pickup_DateTime) AS date \n",
    "    FROM taxi_trips\n",
    "    WHERE date BETWEEN '2014-01-01' AND '2015-01-01'\n",
    "UNION ALL\n",
    "    SELECT DATE(Trip_Pickup_DateTime) AS date\n",
    "    FROM uber_trips\n",
    "    WHERE date BETWEEN '2014-01-01' AND '2015-01-01'\n",
    ")\n",
    "    SELECT \n",
    "        hired_trips.date as date, printf(\"%.4f\",daily_wind_speed), COUNT(*) AS number\n",
    "    FROM hired_trips\n",
    "    JOIN \n",
    "        daily_weather ON hired_trips.date = DATE(daily_weather.date)\n",
    "    GROUP BY hired_trips.date\n",
    "    ORDER BY daily_wind_speed DESC\n",
    "    LIMIT 10\n",
    "\n",
    "\"\"\""
   ]
  },
  {
   "cell_type": "code",
   "execution_count": 2,
   "id": "9b0c5c2a",
   "metadata": {},
   "outputs": [
    {
     "ename": "NameError",
     "evalue": "name 'engine' is not defined",
     "output_type": "error",
     "traceback": [
      "\u001b[0;31m---------------------------------------------------------------------------\u001b[0m",
      "\u001b[0;31mNameError\u001b[0m                                 Traceback (most recent call last)",
      "\u001b[0;32m/var/folders/z1/_1bxs8qj3xs401mq4d3s_5240000gp/T/ipykernel_25476/2677745709.py\u001b[0m in \u001b[0;36m<module>\u001b[0;34m\u001b[0m\n\u001b[0;32m----> 1\u001b[0;31m \u001b[0mengine\u001b[0m\u001b[0;34m.\u001b[0m\u001b[0mexecute\u001b[0m\u001b[0;34m(\u001b[0m\u001b[0mQUERY_5\u001b[0m\u001b[0;34m)\u001b[0m\u001b[0;34m.\u001b[0m\u001b[0mfetchall\u001b[0m\u001b[0;34m(\u001b[0m\u001b[0;34m)\u001b[0m\u001b[0;34m\u001b[0m\u001b[0;34m\u001b[0m\u001b[0m\n\u001b[0m",
      "\u001b[0;31mNameError\u001b[0m: name 'engine' is not defined"
     ]
    }
   ],
   "source": [
    "engine.execute(QUERY_5).fetchall()"
   ]
  },
  {
   "cell_type": "code",
   "execution_count": 63,
   "id": "fff12e8b",
   "metadata": {},
   "outputs": [],
   "source": [
    "write_query_to_file(QUERY_5, \"Top 10 Windiest Date with number of hired trips in 2014\")"
   ]
  },
  {
   "attachments": {},
   "cell_type": "markdown",
   "id": "3b5d2c8c",
   "metadata": {},
   "source": [
    "### Query 6"
   ]
  },
  {
   "cell_type": "code",
   "execution_count": 64,
   "id": "f50fecc9",
   "metadata": {},
   "outputs": [],
   "source": [
    "QUERY_6 = \"\"\"\n",
    "    WITH hired_trips AS\n",
    "    (\n",
    "    SELECT \n",
    "        strftime('%Y-%m-%d %H',Trip_Pickup_DateTime) AS trip_hour \n",
    "    FROM \n",
    "        taxi_trips\n",
    "    WHERE \n",
    "        Trip_Pickup_DateTime BETWEEN '2012-10-22' AND '2012-10-31'\n",
    "UNION ALL\n",
    "    SELECT \n",
    "        strftime('%Y-%m-%d %H',Trip_Pickup_DateTime) AS trip_hour \n",
    "    FROM \n",
    "        uber_trips\n",
    "    WHERE \n",
    "        Trip_Pickup_DateTime BETWEEN '2012-10-22' AND '2012-10-31'\n",
    "        ),\n",
    "    hurricane_weather AS\n",
    "    (\n",
    "    SELECT \n",
    "        strftime('%Y-%m-%d %H',datetime) AS weather_hour, hourly_precipitation, hourly_wind_speed \n",
    "    FROM hourly_weather\n",
    "    WHERE \n",
    "        datetime BETWEEN '2012-10-22' AND '2012-10-31'\n",
    "    )\n",
    "    SELECT \n",
    "        weather_hour, COALESCE(COUNT(trip_hour),0) AS number, hourly_precipitation, hourly_wind_speed\n",
    "    FROM hurricane_weather\n",
    "    LEFT JOIN hired_trips\n",
    "    ON trip_hour = weather_hour\n",
    "    GROUP BY weather_hour\n",
    "    \n",
    "\"\"\""
   ]
  },
  {
   "cell_type": "code",
   "execution_count": 65,
   "id": "324f4ba7",
   "metadata": {},
   "outputs": [
    {
     "data": {
      "text/plain": [
       "[('2012-10-22 00', 4, 0.0, 7.0),\n",
       " ('2012-10-22 01', 0, 0.0, 5.0),\n",
       " ('2012-10-22 02', 1, 0.0, 7.0),\n",
       " ('2012-10-22 03', 1, 0.0, 0.0),\n",
       " ('2012-10-22 04', 1, 0.0, 0.0),\n",
       " ('2012-10-22 05', 2, 0.0, 0.0),\n",
       " ('2012-10-22 06', 4, 0.0, 5.0),\n",
       " ('2012-10-22 07', 9, 0.0, 3.0),\n",
       " ('2012-10-22 08', 5, 0.0, 3.0),\n",
       " ('2012-10-22 09', 11, 0.0, 5.0),\n",
       " ('2012-10-22 10', 4, 0.0, 0.0),\n",
       " ('2012-10-22 11', 10, 0.0, 0.0),\n",
       " ('2012-10-22 12', 7, 0.0, 11.0),\n",
       " ('2012-10-22 13', 11, 0.0, 0.0),\n",
       " ('2012-10-22 14', 4, 0.0, 7.0),\n",
       " ('2012-10-22 15', 6, 0.0, 6.0),\n",
       " ('2012-10-22 16', 7, 0.0, 3.0),\n",
       " ('2012-10-22 17', 8, 0.0, 7.0),\n",
       " ('2012-10-22 18', 10, 0.0, 5.0),\n",
       " ('2012-10-22 19', 12, 0.0, 5.0),\n",
       " ('2012-10-22 20', 8, 0.0, 3.0),\n",
       " ('2012-10-22 21', 5, 0.0, 0.0),\n",
       " ('2012-10-22 22', 7, 0.0, 3.0),\n",
       " ('2012-10-22 23', 2, 0.0, 3.0),\n",
       " ('2012-10-23 00', 2, 0.0, 3.0),\n",
       " ('2012-10-23 01', 2, 0.0, 0.0),\n",
       " ('2012-10-23 02', 1, 0.0, 3.0),\n",
       " ('2012-10-23 03', 0, 0.0, 0.0),\n",
       " ('2012-10-23 04', 0, 0.0, 3.0),\n",
       " ('2012-10-23 05', 2, 0.0, 0.0),\n",
       " ('2012-10-23 06', 3, 0.0, 0.0),\n",
       " ('2012-10-23 07', 9, 0.0, 0.0),\n",
       " ('2012-10-23 08', 15, 0.0, 0.0),\n",
       " ('2012-10-23 09', 12, 0.0, 3.0),\n",
       " ('2012-10-23 10', 15, 0.0, 0.0),\n",
       " ('2012-10-23 11', 12, 0.0, 3.0),\n",
       " ('2012-10-23 12', 6, 0.0, 0.0),\n",
       " ('2012-10-23 13', 7, 0.0, 0.0),\n",
       " ('2012-10-23 14', 15, 0.0, 0.0),\n",
       " ('2012-10-23 15', 10, 0.0, 0.0),\n",
       " ('2012-10-23 16', 2, 0.0, 3.0),\n",
       " ('2012-10-23 18', 8, 0.0, 5.0),\n",
       " ('2012-10-23 19', 8, 0.0, 0.0),\n",
       " ('2012-10-23 20', 14, 0.02, 0.0),\n",
       " ('2012-10-23 21', 8, 0.0, 5.0),\n",
       " ('2012-10-23 22', 10, 0.01, 0.0),\n",
       " ('2012-10-23 23', 5, 0.0, 5.0),\n",
       " ('2012-10-24 00', 1, 0.0, 3.0),\n",
       " ('2012-10-24 01', 2, 0.0, 6.0),\n",
       " ('2012-10-24 02', 20, 0.0, 5.0),\n",
       " ('2012-10-24 03', 0, 0.0, 7.0),\n",
       " ('2012-10-24 04', 0, 0.0, 7.0),\n",
       " ('2012-10-24 05', 3, 0.0, 6.0),\n",
       " ('2012-10-24 06', 6, 0.0, 5.0),\n",
       " ('2012-10-24 07', 15, 0.0, 5.0),\n",
       " ('2012-10-24 08', 4, 0.0, 0.0),\n",
       " ('2012-10-24 09', 12, 0.0, 0.0),\n",
       " ('2012-10-24 10', 8, 0.0, 7.0),\n",
       " ('2012-10-24 11', 8, 0.0, 7.0),\n",
       " ('2012-10-24 12', 18, 0.0, 8.0),\n",
       " ('2012-10-24 13', 7, 0.0, 8.0),\n",
       " ('2012-10-24 14', 12, 0.0, 6.0),\n",
       " ('2012-10-24 15', 6, 0.0, 7.0),\n",
       " ('2012-10-24 16', 3, 0.0, 8.0),\n",
       " ('2012-10-24 17', 8, 0.0, 5.0),\n",
       " ('2012-10-24 18', 6, 0.0, 7.0),\n",
       " ('2012-10-24 19', 11, 0.0, 8.0),\n",
       " ('2012-10-24 20', 22, 0.0, 0.0),\n",
       " ('2012-10-24 21', 34, 0.0, 3.0),\n",
       " ('2012-10-24 22', 22, 0.0, 5.0),\n",
       " ('2012-10-24 23', 7, 0.0, 0.0),\n",
       " ('2012-10-25 00', 14, 0.0, 6.0),\n",
       " ('2012-10-25 01', 4, 0.0, 3.0),\n",
       " ('2012-10-25 02', 12, 0.0, 3.0),\n",
       " ('2012-10-25 03', 0, 0.0, 6.0),\n",
       " ('2012-10-25 04', 2, 0.0, 6.0),\n",
       " ('2012-10-25 05', 2, 0.0, 0.0),\n",
       " ('2012-10-25 06', 6, 0.0, 5.0),\n",
       " ('2012-10-25 07', 8, 0.0, 6.0),\n",
       " ('2012-10-25 08', 12, 0.0, 5.0),\n",
       " ('2012-10-25 09', 8, 0.0, 3.0),\n",
       " ('2012-10-25 10', 9, 0.0, 6.0),\n",
       " ('2012-10-25 11', 7, 0.0, 0.0),\n",
       " ('2012-10-25 12', 8, 0.0, 6.0),\n",
       " ('2012-10-25 13', 5, 0.0, 0.0),\n",
       " ('2012-10-25 14', 11, 0.0, 5.0),\n",
       " ('2012-10-25 15', 5, 0.0, 5.0),\n",
       " ('2012-10-25 16', 2, 0.0, 0.0),\n",
       " ('2012-10-25 17', 9, 0.0, 3.0),\n",
       " ('2012-10-25 18', 12, 0.0, 0.0),\n",
       " ('2012-10-25 19', 6, 0.0, 0.0),\n",
       " ('2012-10-25 20', 25, 0.0, 3.0),\n",
       " ('2012-10-25 21', 19, 0.0, 3.0),\n",
       " ('2012-10-25 22', 14, 0.0, 3.0),\n",
       " ('2012-10-25 23', 5, 0.0, 0.0),\n",
       " ('2012-10-26 00', 21, 0.0, 0.0),\n",
       " ('2012-10-26 01', 2, 0.0, 0.0),\n",
       " ('2012-10-26 02', 3, 0.0, 0.0),\n",
       " ('2012-10-26 03', 4, 0.0, 3.0),\n",
       " ('2012-10-26 04', 3, 0.0, 0.0),\n",
       " ('2012-10-26 05', 2, 0.0, 0.0),\n",
       " ('2012-10-26 06', 2, 0.0, 0.0),\n",
       " ('2012-10-26 07', 4, 0.0, 3.0),\n",
       " ('2012-10-26 08', 4, 0.0, 3.0),\n",
       " ('2012-10-26 09', 14, 0.0, 3.0),\n",
       " ('2012-10-26 10', 9, 0.0, 3.0),\n",
       " ('2012-10-26 11', 7, 0.0, 3.0),\n",
       " ('2012-10-26 12', 7, 0.0, 0.0),\n",
       " ('2012-10-26 13', 11, 0.0, 3.0),\n",
       " ('2012-10-26 14', 11, 0.0, 3.0),\n",
       " ('2012-10-26 15', 5, 0.0, 0.0),\n",
       " ('2012-10-26 16', 5, 0.0, 0.0),\n",
       " ('2012-10-26 17', 6, 0.0, 0.0),\n",
       " ('2012-10-26 18', 7, 0.0, 0.0),\n",
       " ('2012-10-26 19', 12, 0.0, 0.0),\n",
       " ('2012-10-26 20', 15, 0.0, 3.0),\n",
       " ('2012-10-26 21', 9, 0.0, 3.0),\n",
       " ('2012-10-26 22', 13, 0.0, 0.0),\n",
       " ('2012-10-26 23', 8, 0.0, 0.0),\n",
       " ('2012-10-27 00', 11, 0.0, 3.0),\n",
       " ('2012-10-27 01', 8, 0.0, 0.0),\n",
       " ('2012-10-27 02', 7, 0.0, 3.0),\n",
       " ('2012-10-27 03', 10, 0.0, 0.0),\n",
       " ('2012-10-27 04', 1, 0.0, 6.0),\n",
       " ('2012-10-27 05', 3, 0.0, 6.0),\n",
       " ('2012-10-27 06', 1, 0.0, 6.0),\n",
       " ('2012-10-27 07', 8, 0.0, 5.0),\n",
       " ('2012-10-27 08', 9, 0.0, 5.0),\n",
       " ('2012-10-27 09', 9, 0.0, 6.0),\n",
       " ('2012-10-27 10', 12, 0.0, 7.0),\n",
       " ('2012-10-27 11', 12, 0.0, 5.0),\n",
       " ('2012-10-27 12', 6, 0.0, 8.0),\n",
       " ('2012-10-27 13', 8, 0.0, 8.0),\n",
       " ('2012-10-27 14', 9, 0.0, 10.0),\n",
       " ('2012-10-27 15', 9, 0.0, 10.0),\n",
       " ('2012-10-27 16', 12, 0.0, 7.0),\n",
       " ('2012-10-27 17', 13, 0.0, 7.0),\n",
       " ('2012-10-27 18', 9, 0.0, 7.0),\n",
       " ('2012-10-27 19', 39, 0.0, 8.0),\n",
       " ('2012-10-27 20', 15, 0.0, 7.0),\n",
       " ('2012-10-27 21', 11, 0.0, 9.0),\n",
       " ('2012-10-27 22', 14, 0.0, 9.0),\n",
       " ('2012-10-27 23', 14, 0.0, 8.0),\n",
       " ('2012-10-28 00', 14, 0.0, 11.0),\n",
       " ('2012-10-28 01', 14, 0.0, 8.0),\n",
       " ('2012-10-28 02', 5, 0.0, 8.0),\n",
       " ('2012-10-28 03', 9, 0.0, 9.0),\n",
       " ('2012-10-28 04', 8, 0.0, 10.0),\n",
       " ('2012-10-28 05', 1, 0.0, 11.0),\n",
       " ('2012-10-28 06', 4, 0.0, 10.0),\n",
       " ('2012-10-28 07', 3, 0.0, 11.0),\n",
       " ('2012-10-28 08', 4, 0.0, 11.0),\n",
       " ('2012-10-28 09', 8, 0.0, 11.0),\n",
       " ('2012-10-28 10', 6, 0.0, 10.0),\n",
       " ('2012-10-28 11', 7, 0.0, 8.0),\n",
       " ('2012-10-28 12', 10, 0.0, 7.0),\n",
       " ('2012-10-28 13', 8, 0.0, 13.0),\n",
       " ('2012-10-28 14', 11, 0.0, 13.0),\n",
       " ('2012-10-28 15', 8, 0.0, 13.0),\n",
       " ('2012-10-28 16', 5, 0.0, 16.0),\n",
       " ('2012-10-28 17', 8, 0.0, 11.0),\n",
       " ('2012-10-28 18', 6, 0.0, 15.0),\n",
       " ('2012-10-28 19', 6, 0.0, 14.0),\n",
       " ('2012-10-28 20', 6, 0.0, 16.0),\n",
       " ('2012-10-28 21', 3, 0.0, 14.0),\n",
       " ('2012-10-28 22', 4, 0.0, 16.0),\n",
       " ('2012-10-28 23', 2, 0.0, 14.0),\n",
       " ('2012-10-29 00', 1, 0.0, 16.0),\n",
       " ('2012-10-29 01', 0, 0.0, 11.0),\n",
       " ('2012-10-29 02', 1, 0.0, 13.0),\n",
       " ('2012-10-29 03', 0, 0.0, 17.0),\n",
       " ('2012-10-29 04', 1, 0.0, 15.0),\n",
       " ('2012-10-29 05', 0, 0.0, 15.0),\n",
       " ('2012-10-29 06', 1, 0.02, 16.0),\n",
       " ('2012-10-29 07', 3, 0.02, 17.0),\n",
       " ('2012-10-29 08', 1, 0.0, 21.0),\n",
       " ('2012-10-29 09', 3, 0.0, 16.0),\n",
       " ('2012-10-29 10', 0, 0.0, 0.0),\n",
       " ('2012-10-29 11', 20, 0.0, 21.0),\n",
       " ('2012-10-29 12', 35, 0.02, 15.0),\n",
       " ('2012-10-29 13', 3, 0.02, 24.0),\n",
       " ('2012-10-29 14', 16, 0.03, 23.0),\n",
       " ('2012-10-29 15', 8, 0.07, 26.0),\n",
       " ('2012-10-29 16', 3, 0.1, 23.0),\n",
       " ('2012-10-29 17', 8, 0.04, 29.0),\n",
       " ('2012-10-29 18', 8, 0.02, 21.0),\n",
       " ('2012-10-29 19', 0, 0.01, 25.0),\n",
       " ('2012-10-29 20', 0, 0.0, 17.0),\n",
       " ('2012-10-29 21', 1, 0.0, 15.0),\n",
       " ('2012-10-29 22', 0, 0.02, 9.0),\n",
       " ('2012-10-29 23', 0, 0.03, 7.0),\n",
       " ('2012-10-30 00', 2, 0.03, 13.0),\n",
       " ('2012-10-30 01', 0, 0.0, 13.0),\n",
       " ('2012-10-30 02', 0, 0.03, 9.0),\n",
       " ('2012-10-30 03', 0, 0.04, 17.0),\n",
       " ('2012-10-30 04', 1, 0.0, 9.0),\n",
       " ('2012-10-30 05', 0, 0.01, 7.0),\n",
       " ('2012-10-30 06', 0, 0.01, 7.0),\n",
       " ('2012-10-30 07', 0, 0.0, 10.0),\n",
       " ('2012-10-30 08', 4, 0.01, 11.0),\n",
       " ('2012-10-30 09', 8, 0.01, 15.0),\n",
       " ('2012-10-30 10', 16, 0.02, 8.0),\n",
       " ('2012-10-30 11', 3, 0.0, 7.0),\n",
       " ('2012-10-30 12', 6, 0.0, 9.0),\n",
       " ('2012-10-30 13', 12, 0.0, 7.0),\n",
       " ('2012-10-30 14', 6, 0.0, 0.0),\n",
       " ('2012-10-30 15', 8, 0.0, 0.0),\n",
       " ('2012-10-30 16', 12, 0.01, 3.0),\n",
       " ('2012-10-30 17', 10, 0.0, 6.0),\n",
       " ('2012-10-30 18', 4, 0.0, 5.0),\n",
       " ('2012-10-30 19', 6, 0.0, 3.0),\n",
       " ('2012-10-30 20', 6, 0.0, 0.0),\n",
       " ('2012-10-30 21', 7, 0.0, 5.0),\n",
       " ('2012-10-30 22', 4, 0.0, 7.0),\n",
       " ('2012-10-30 23', 4, 0.0, 5.0)]"
      ]
     },
     "execution_count": 65,
     "metadata": {},
     "output_type": "execute_result"
    }
   ],
   "source": [
    "engine.execute(QUERY_6).fetchall()"
   ]
  },
  {
   "cell_type": "code",
   "execution_count": 66,
   "id": "b26c99d0",
   "metadata": {},
   "outputs": [],
   "source": [
    "write_query_to_file(QUERY_6, \"Harrican Weather Data with number of hired trips\")"
   ]
  },
  {
   "cell_type": "markdown",
   "id": "a13ced42",
   "metadata": {},
   "source": [
    "## Part 4: Visualizing the Data"
   ]
  },
  {
   "cell_type": "markdown",
   "id": "6d9eef42",
   "metadata": {},
   "source": [
    "### Visualization 1"
   ]
  },
  {
   "cell_type": "code",
   "execution_count": 67,
   "id": "0de8394c",
   "metadata": {},
   "outputs": [],
   "source": [
    "def get_data_for_visual_1():\n",
    "    \"\"\"\n",
    "    This function gets the dataframe we need for visualization\n",
    "    input: nothing\n",
    "    output: dataframe we need for visualization(get from sql command)\n",
    "    \n",
    "    \n",
    "    \"\"\"\n",
    "    df1 = pd.read_sql_query(QUERY_1, engine) \n",
    "    df1 = df1.sort_values(by=[\"strftime('%H', Trip_Pickup_DateTime)\"])\n",
    "    return df1"
   ]
  },
  {
   "cell_type": "code",
   "execution_count": 68,
   "id": "847ced2f",
   "metadata": {},
   "outputs": [],
   "source": [
    "def plot_popularity_hourly(dataframe):\n",
    "    \"\"\"\n",
    "    This function drwas the graph\n",
    "    input: nothing\n",
    "    output: a bar plot for hourly taxi rides, \n",
    "    we choose bar plot because you can see the amount of taxi rides clearly using this plot\n",
    "    \n",
    "    \"\"\"\n",
    "    figure, axes = plt.subplots(figsize=(20, 10))\n",
    "    \n",
    "    plt.bar(df1[\"strftime('%H', Trip_Pickup_DateTime)\"], df1[\"count(*)\"])\n",
    "    \n",
    "    axes.set_title(\"Popularity of taxi rides for each hour\")\n",
    "    plt.xlabel(\"Hour\")\n",
    "    plt.ylabel(\"Number of Taxi Rides\")\n",
    "    \n",
    "    plt.show()"
   ]
  },
  {
   "cell_type": "code",
   "execution_count": 69,
   "id": "3c63e845",
   "metadata": {},
   "outputs": [
    {
     "data": {
      "image/png": "[encoded data removed]",
      "text/plain": [
       "<Figure size 2000x1000 with 1 Axes>"
      ]
     },
     "metadata": {},
     "output_type": "display_data"
    }
   ],
   "source": [
    "df1 = get_data_for_visual_1()\n",
    "plot_popularity_hourly(df1)"
   ]
  },
  {
   "attachments": {},
   "cell_type": "markdown",
   "id": "c0e3887d",
   "metadata": {},
   "source": [
    "### Visualization 2"
   ]
  },
  {
   "cell_type": "code",
   "execution_count": 70,
   "id": "c7b6c25d",
   "metadata": {},
   "outputs": [],
   "source": [
    "QUERY_taxi = \"\"\"\n",
    "    SELECT \n",
    "        strftime('%Y-%m', Trip_Pickup_DateTime) AS month, \n",
    "        SUM(distance) AS distance\n",
    "    FROM \n",
    "        taxi_trips\n",
    "    GROUP BY \n",
    "        month\n",
    "             \"\"\"\n",
    "QUERY_uber =  \"\"\"\n",
    "    SELECT \n",
    "        strftime('%Y-%m', Trip_Pickup_DateTime) AS month, \n",
    "        SUM(distance) AS distance\n",
    "    FROM \n",
    "        uber_trips\n",
    "    GROUP BY \n",
    "        month\n",
    "        \"\"\""
   ]
  },
  {
   "cell_type": "code",
   "execution_count": 74,
   "id": "686f2731",
   "metadata": {},
   "outputs": [],
   "source": [
    "def average_distance_month():\n",
    "    \"\"\"\n",
    "    This function plot the average traveled distance per month, and add the 90% confidence interval for mean\n",
    "    input: nothing\n",
    "    output: the graph of average traveled distance per month\n",
    "    \"\"\"\n",
    "    df_taxi = pd.read_sql_query(QUERY_taxi, engine)\n",
    "    df_uber = pd.read_sql_query(QUERY_uber, engine)\n",
    "    \n",
    "    df_taxi['month'] = pd.to_datetime(df_taxi['month'], format='%Y-%m')\n",
    "    df_uber['month'] = pd.to_datetime(df_uber['month'], format='%Y-%m')\n",
    "    \n",
    "    taxi_info = df_taxi.groupby(df_taxi['month'].dt.month)['distance'].agg(['mean','count','sem'])\n",
    "    uber_info = df_uber.groupby(df_uber['month'].dt.month)['distance'].agg(['mean','count','sem'])\n",
    "    \n",
    "    taxi_low, taxi_high = st.t.interval(0.90, taxi_info['count']-1, loc=taxi_info['mean'], scale=taxi_info['sem'])\n",
    "    uber_low, uber_high = st.t.interval(0.90, uber_info['count']-1, loc=uber_info['mean'], scale=uber_info['sem'])\n",
    "    \n",
    "    plt.plot(taxi_info.index, taxi_info['mean'], color='orange', label='Taxi')\n",
    "    plt.plot(uber_info.index, uber_info['mean'], color='blue', label='Uber')\n",
    "    \n",
    "    plt.fill_between(taxi_info.index, taxi_low, taxi_high, color='orange', alpha=0.2)\n",
    "    plt.fill_between(uber_info.index, uber_low, uber_high, color='blue', alpha=0.2)\n",
    "    \n",
    "    plt.xlabel('Month')\n",
    "    plt.ylabel('Average Distance')\n",
    "    plt.title('Average Distance Traveled per Month')\n",
    "    plt.legend()\n",
    "    \n",
    "    plt.show()"
   ]
  },
  {
   "cell_type": "code",
   "execution_count": 75,
   "id": "8a4f6e2d",
   "metadata": {},
   "outputs": [
    {
     "data": {
      "image/png": "[encoded data removed]",
      "text/plain": [
       "<Figure size 640x480 with 1 Axes>"
      ]
     },
     "metadata": {},
     "output_type": "display_data"
    }
   ],
   "source": [
    "average_distance_month()"
   ]
  },
  {
   "attachments": {},
   "cell_type": "markdown",
   "id": "85e53b0a",
   "metadata": {},
   "source": [
    "### Visualization 3"
   ]
  },
  {
   "cell_type": "code",
   "execution_count": 76,
   "id": "020e920f",
   "metadata": {},
   "outputs": [],
   "source": [
    "def get_data_for_visual_3():\n",
    "    \"\"\"\n",
    "    This function gets the dataframe needed for visualization 3\n",
    "    input: nothing\n",
    "    output: dataframe, contains day of week and its corresponding trips to each airport\n",
    "    \n",
    "    \"\"\"\n",
    "    QUERY_LGA = \"\"\"\n",
    "    WITH hired_trips AS\n",
    "    (\n",
    "    SELECT \n",
    "        strftime('%w', Trip_Pickup_DateTime) + 1 AS day_of_week, \n",
    "        dropoff_longitude,\n",
    "        dropoff_latitude\n",
    "    FROM\n",
    "        taxi_trips\n",
    "    WHERE dropoff_longitude < -73.854838 AND dropoff_longitude > -73.891745\n",
    "        AND dropoff_latitude < 40.778865 AND dropoff_latitude > 40.763589\n",
    "\n",
    "UNION\n",
    "    SELECT\n",
    "        strftime('%w', Trip_Pickup_DateTime) + 1 AS day_of_week, \n",
    "        dropoff_longitude,\n",
    "        dropoff_latitude\n",
    "    FROM\n",
    "        uber_trips\n",
    "    WHERE dropoff_longitude < -73.854838 AND dropoff_longitude > -73.891745\n",
    "        AND dropoff_latitude < 40.778865 AND dropoff_latitude > 40.763589\n",
    "    )\n",
    "    SELECT \n",
    "         day_of_week, count(*) AS LGA\n",
    "    FROM hired_trips\n",
    "    GROUP BY day_of_week\n",
    "    ORDER BY day_of_week\n",
    "\n",
    "\"\"\"\n",
    "    QUERY_JFK = \"\"\"\n",
    "    WITH hired_trips AS\n",
    "    (\n",
    "    SELECT \n",
    "        strftime('%w', Trip_Pickup_DateTime) + 1 AS day_of_week, \n",
    "        dropoff_longitude,\n",
    "        dropoff_latitude\n",
    "    FROM\n",
    "        taxi_trips\n",
    "    WHERE dropoff_longitude < -73.766264 AND dropoff_longitude > -73.795642\n",
    "        AND dropoff_latitude < 40.651376 AND dropoff_latitude > 40.639263\n",
    "\n",
    "UNION\n",
    "    SELECT\n",
    "        strftime('%w', Trip_Pickup_DateTime) + 1 AS day_of_week, \n",
    "        dropoff_longitude,\n",
    "        dropoff_latitude\n",
    "    FROM\n",
    "        uber_trips\n",
    "    WHERE dropoff_longitude < -73.766264 AND dropoff_longitude > -73.795642\n",
    "        AND dropoff_latitude < 40.651376 AND dropoff_latitude > 40.639263\n",
    "    )\n",
    "    SELECT \n",
    "         day_of_week, count(*) AS JFK\n",
    "    FROM hired_trips\n",
    "    GROUP BY day_of_week\n",
    "    ORDER BY day_of_week\n",
    "\n",
    "\"\"\"\n",
    "    QUERY_EWR = \"\"\"\n",
    "    WITH hired_trips AS\n",
    "    (\n",
    "    SELECT \n",
    "        strftime('%w', Trip_Pickup_DateTime) + 1 AS day_of_week, \n",
    "        dropoff_longitude,\n",
    "        dropoff_latitude\n",
    "    FROM\n",
    "        taxi_trips\n",
    "    WHERE dropoff_longitude < -74.165205 AND dropoff_longitude > -74.194028\n",
    "        AND dropoff_latitude < 40.699680 AND dropoff_latitude > 40.686794\n",
    "\n",
    "UNION\n",
    "    SELECT\n",
    "        strftime('%w', Trip_Pickup_DateTime) + 1 AS day_of_week, \n",
    "        dropoff_longitude,\n",
    "        dropoff_latitude\n",
    "    FROM\n",
    "        uber_trips\n",
    "    WHERE dropoff_longitude < -74.165205 AND dropoff_longitude > -74.194028\n",
    "        AND dropoff_latitude < 40.699680 AND dropoff_latitude > 40.686794\n",
    "    )\n",
    "    SELECT \n",
    "         day_of_week, count(*) AS EWR\n",
    "    FROM hired_trips\n",
    "    GROUP BY day_of_week\n",
    "    ORDER BY day_of_week\n",
    "\n",
    "\"\"\"\n",
    "    df1 = pd.read_sql_query(QUERY_LGA, engine) \n",
    "    df2 = pd.read_sql_query(QUERY_JFK, engine) \n",
    "    df3 = pd.read_sql_query(QUERY_EWR, engine) \n",
    "    df4 = pd.merge(df1, df2, how = \"left\", on = [\"day_of_week\", \"day_of_week\"])\n",
    "    df5 = pd.merge(df4, df3, how = \"left\", on = [\"day_of_week\", \"day_of_week\"])\n",
    "    return df5"
   ]
  },
  {
   "cell_type": "code",
   "execution_count": 77,
   "id": "96b1d574",
   "metadata": {},
   "outputs": [],
   "source": [
    "def plot_popularity_hourly(dataframe):\n",
    "    \"\"\"\n",
    "    This functions plots the data.\n",
    "    we can see bar plots with different color representing different airport\n",
    "    \"\"\"\n",
    "    dataframe.plot(x=\"day_of_week\", y=[\"LGA\", \"JFK\", \"EWR\"], kind=\"bar\", \n",
    "                   title = \"Dropoffs for Each Airport in Each Week Day\",\n",
    "                  xlabel = \"Week Day\", ylabel = \"Number of Dropoffs\")    "
   ]
  },
  {
   "cell_type": "code",
   "execution_count": 78,
   "id": "a5d5ca1d",
   "metadata": {},
   "outputs": [
    {
     "data": {
      "image/png": "[encoded data removed]",
      "text/plain": [
       "<Figure size 640x480 with 1 Axes>"
      ]
     },
     "metadata": {},
     "output_type": "display_data"
    }
   ],
   "source": [
    "df3 = get_data_for_visual_3()\n",
    "plot_popularity_hourly(df3)"
   ]
  },
  {
   "attachments": {},
   "cell_type": "markdown",
   "id": "6a888614",
   "metadata": {},
   "source": [
    "### Visualization 4"
   ]
  },
  {
   "cell_type": "code",
   "execution_count": 79,
   "id": "5c0d8bbc",
   "metadata": {},
   "outputs": [],
   "source": [
    "QUERY_trip =\"\"\"\n",
    "    SELECT \n",
    "        pickup_longitude, pickup_latitude\n",
    "    FROM \n",
    "        taxi_trips\n",
    "UNION ALL\n",
    "    SELECT \n",
    "        pickup_longitude, pickup_latitude\n",
    "    FROM \n",
    "        uber_trips\n",
    "\"\"\""
   ]
  },
  {
   "cell_type": "code",
   "execution_count": 82,
   "id": "383fb671",
   "metadata": {},
   "outputs": [],
   "source": [
    "def heatmap_trips():\n",
    "\n",
    "    \"\"\"\n",
    "    This function plot the heatmap of all hired trips over a map of the area.\n",
    "\n",
    "    \"\"\"\n",
    "\n",
    "    df_trip = pd.read_sql_query(QUERY_trip, engine)\n",
    "    df_trip = gpd.GeoDataFrame(df_trip, geometry=gpd.points_from_xy(df_trip.pickup_longitude, df_trip.pickup_latitude))\n",
    "        \n",
    "    zones = taxi_zones_df[['LocationID', 'geometry']].copy()\n",
    "    df_trip = gpd.GeoDataFrame(df_trip, geometry=gpd.points_from_xy(df_trip.pickup_longitude, df_trip.pickup_latitude))\n",
    "    result = zones.sjoin(df_trip, how='left')\n",
    "    result = result.set_index('LocationID')\n",
    "    result['num'] = result.groupby('LocationID')['geometry'].count()\n",
    "    result['log_num'] = np.log(result['num'])\n",
    "    result.plot(column='log_num', cmap='viridis', legend=True, legend_kwds={'label': \"Number of Trips in Different Areas\"})\n",
    "    plt.axis('off')\n",
    "    plt.show()"
   ]
  },
  {
   "cell_type": "code",
   "execution_count": 83,
   "id": "6a40e75b",
   "metadata": {},
   "outputs": [
    {
     "name": "stderr",
     "output_type": "stream",
     "text": [
      "/opt/anaconda3/lib/python3.9/site-packages/geopandas/geodataframe.py:2061: UserWarning: CRS mismatch between the CRS of left geometries and the CRS of right geometries.\n",
      "Use `to_crs()` to reproject one of the input geometries to match the CRS of the other.\n",
      "\n",
      "Left CRS: EPSG:4326\n",
      "Right CRS: None\n",
      "\n",
      "  return geopandas.sjoin(left_df=self, right_df=df, *args, **kwargs)\n"
     ]
    },
    {
     "data": {
      "image/png": "[encoded data removed]",
      "text/plain": [
       "<Figure size 640x480 with 2 Axes>"
      ]
     },
     "metadata": {},
     "output_type": "display_data"
    }
   ],
   "source": [
    "heatmap_trips()"
   ]
  },
  {
   "attachments": {},
   "cell_type": "markdown",
   "id": "df8c61ef",
   "metadata": {},
   "source": [
    "### Visualization 5"
   ]
  },
  {
   "cell_type": "code",
   "execution_count": 84,
   "id": "0ee97683",
   "metadata": {},
   "outputs": [],
   "source": [
    "def get_data_for_visual_5():\n",
    "    \"\"\"\n",
    "    This functions gets dataframe for visualization 5\n",
    "    output: dataframe with tip amount and distance\n",
    "    \n",
    "    \"\"\"\n",
    "    QUERY = \"\"\"\n",
    "    SELECT Tip_Amt, distance FROM taxi_trips\n",
    "    \"\"\"\n",
    "    df1 = pd.read_sql_query(QUERY, engine) \n",
    "    df1 = df1.sample(2000)\n",
    "    # only show 2000 data so we can see the trend more clearly\n",
    "    df1 = df1[df1[\"Tip_Amt\"] < 50]\n",
    "    # delete outliers with tip amount greater than 50\n",
    "    df1 = df1[df1[\"distance\"] < 50]\n",
    "    # delete outliers with distance greater than 50\n",
    "    return df1"
   ]
  },
  {
   "cell_type": "code",
   "execution_count": 85,
   "id": "32af0d51",
   "metadata": {},
   "outputs": [],
   "source": [
    "def Tip_Amt_VS_Distance(dataframe):\n",
    "    \"\"\"\n",
    "    This function plot the visualization 5\n",
    "    we use the scatter plot, in order to let the plot be clear,\n",
    "    we only use 2000 points\n",
    "    \"\"\"\n",
    "    dataframe.plot(x=\"distance\", y=\"Tip_Amt\", kind=\"scatter\", \n",
    "                   title = \"Tip Amount Versus Distance for Yellow Taxi Rides\",\n",
    "                  xlabel = \"Distance\", ylabel = \"Tip Amount\")   "
   ]
  },
  {
   "cell_type": "code",
   "execution_count": 86,
   "id": "6695f255",
   "metadata": {},
   "outputs": [
    {
     "data": {
      "image/png": "[encoded data removed]",
      "text/plain": [
       "<Figure size 640x480 with 1 Axes>"
      ]
     },
     "metadata": {},
     "output_type": "display_data"
    }
   ],
   "source": [
    "df5 = get_data_for_visual_5()\n",
    "Tip_Amt_VS_Distance(df5)"
   ]
  },
  {
   "attachments": {},
   "cell_type": "markdown",
   "id": "0d1af150",
   "metadata": {},
   "source": [
    "### Visualization 6"
   ]
  },
  {
   "cell_type": "code",
   "execution_count": 87,
   "id": "f9cfbc80",
   "metadata": {},
   "outputs": [],
   "source": [
    "QUERY_tip =\"\"\"\n",
    "    SELECT strftime('%Y-%m-%d %H', Trip_Pickup_DateTime) AS DATE, Tip_Amt\n",
    "    FROM taxi_trips\n",
    "          \"\"\" \n",
    "QUERY_precipitation =\"\"\"\n",
    "    SELECT strftime('%Y-%m-%d %H', datetime) as DATE, hourly_precipitation\n",
    "    FROM hourly_weather\n",
    "          \"\"\""
   ]
  },
  {
   "cell_type": "code",
   "execution_count": 88,
   "id": "90df1579",
   "metadata": {},
   "outputs": [],
   "source": [
    "def tip_precipitation():\n",
    "    \"\"\"\n",
    "    This function could lead to a scatter graph for yellow taxi rides, \n",
    "    which shows the relationship between tip amount and hourly precipitation.\n",
    "    \n",
    "    \"\"\"\n",
    "    # Load tip and precipitation data into Pandas DataFrames from a database using an engine object\n",
    "    df_tip = pd.read_sql_query(QUERY_tip, engine)\n",
    "    df_precipitation =pd.read_sql_query(QUERY_precipitation, engine)\n",
    "    \n",
    "    # Merge tip and precipitation data on the 'DATE' column and sample 2000 rows\n",
    "    df = df_tip.merge(df_precipitation,on = 'DATE').sample(2000)\n",
    "    \n",
    "    # Filter rows where hourly precipitation and tip amount are greater than 0\n",
    "    df = df[(df['hourly_precipitation'] > 0) & (df['Tip_Amt'] > 0)]\n",
    "    \n",
    "    # Plot a scatter plot of tip amount vs. hourly precipitation\n",
    "    df.plot(x=\"Tip_Amt\", y=\"hourly_precipitation\", kind=\"scatter\", \n",
    "            title=\"TipAmt VS. Precipitation for Yellow Taxi rides\", \n",
    "            xlabel=\"Tip Amount\", ylabel=\"Hourly Precipitation\")"
   ]
  },
  {
   "cell_type": "code",
   "execution_count": 89,
   "id": "ce35e068",
   "metadata": {},
   "outputs": [
    {
     "data": {
      "image/png": "[encoded data removed]",
      "text/plain": [
       "<Figure size 640x480 with 1 Axes>"
      ]
     },
     "metadata": {},
     "output_type": "display_data"
    }
   ],
   "source": [
    "tip_precipitation()"
   ]
  },
  {
   "cell_type": "code",
   "execution_count": null,
   "id": "7aa3d8bd",
   "metadata": {},
   "outputs": [],
   "source": []
  }
 ],
 "metadata": {
  "kernelspec": {
   "display_name": "Python 3 (ipykernel)",
   "language": "python",
   "name": "python3"
  },
  "language_info": {
   "codemirror_mode": {
    "name": "ipython",
    "version": 3
   },
   "file_extension": ".py",
   "mimetype": "text/x-python",
   "name": "python",
   "nbconvert_exporter": "python",
   "pygments_lexer": "ipython3",
   "version": "3.9.13"
  }
 },
 "nbformat": 4,
 "nbformat_minor": 5
}
